{
 "cells": [
  {
   "cell_type": "code",
   "execution_count": 1,
   "id": "5b53047e",
   "metadata": {},
   "outputs": [],
   "source": [
    "import networkx as nx\n",
    "import numpy as np\n",
    "import pandas as pd\n",
    "import random\n",
    "import math"
   ]
  },
  {
   "cell_type": "code",
   "execution_count": 2,
   "id": "537e5df9",
   "metadata": {},
   "outputs": [],
   "source": [
    "def edge_sample(G, p, seed=None):\n",
    "    edges = G.edges()\n",
    "    sampled=[]\n",
    "    if seed is not None:\n",
    "        random.Seed(seed)\n",
    "    for e in edges:\n",
    "        r = random.random()\n",
    "        if r < p:\n",
    "            sampled.append(e)\n",
    "    H = nx.Graph()\n",
    "    H.add_edges_from(sampled)\n",
    "    return H"
   ]
  },
  {
   "cell_type": "code",
   "execution_count": 12,
   "id": "08734ac3",
   "metadata": {},
   "outputs": [],
   "source": [
    "def generate_samples(G,p,number,path,name):\n",
    "    for n in range(number):\n",
    "        newname = path+\"/\"+name+str(round(p,1))+\"-\"+str(n)\n",
    "        H = edge_sample(G,p)\n",
    "        nx.write_gpickle(H,newname)"
   ]
  },
  {
   "cell_type": "code",
   "execution_count": 24,
   "id": "24552fa8",
   "metadata": {},
   "outputs": [],
   "source": [
    "G = nx.gnm_random_graph(1000,10000)\n",
    "nx.write_gpickle(G,\"ER_FILES/REAL\")\n",
    "prange = np.linspace(0.1,0.9,9)\n",
    "for p in prange:\n",
    "    generate_samples(G,p,50,\"ER_FILES\",\"ER\")"
   ]
  },
  {
   "cell_type": "code",
   "execution_count": 26,
   "id": "bffe774a",
   "metadata": {},
   "outputs": [],
   "source": [
    "G = nx.barabasi_albert_graph(1000,10)\n",
    "nx.write_gpickle(G,\"BA_FILES/REAL\")\n",
    "prange = np.linspace(0.1,0.9,9)\n",
    "for p in prange:\n",
    "    generate_samples(G,p,50,\"BA_FILES\",\"BA\")"
   ]
  },
  {
   "cell_type": "code",
   "execution_count": 22,
   "id": "747521b3",
   "metadata": {},
   "outputs": [],
   "source": [
    "fname=\"/Users/narnolddd/CODE/FETA/FETA3/data/enron.dat\"\n",
    "net = pd.read_csv(fname,sep=\" \",names=[\"source\",\"target\",\"t\"])\n",
    "net = net.drop([\"t\"], axis=1)\n",
    "G = nx.from_pandas_edgelist(net)\n",
    "prange = np.linspace(0.1,0.9,9)\n",
    "for p in prange:\n",
    "    generate_samples(G,p,50,\"ENRON\",\"ENRON\")"
   ]
  },
  {
   "cell_type": "code",
   "execution_count": 28,
   "id": "0ae9a1e8",
   "metadata": {},
   "outputs": [],
   "source": [
    "fname=\"/Users/narnolddd/CODE/FETA/FETA3/data/facebook.dat\"\n",
    "net = pd.read_csv(fname,sep=\" \",names=[\"source\",\"target\",\"t\"])\n",
    "net = net.drop([\"t\"], axis=1)\n",
    "G = nx.from_pandas_edgelist(net)\n",
    "nx.write_gpickle(G,\"FACEBOOK/REAL\")\n",
    "prange = np.linspace(0.1,0.9,9)\n",
    "for p in prange:\n",
    "    generate_samples(G,p,50,\"FACEBOOK\",\"FACEBOOK\")"
   ]
  },
  {
   "cell_type": "code",
   "execution_count": null,
   "id": "10e0b19d",
   "metadata": {},
   "outputs": [],
   "source": []
  }
 ],
 "metadata": {
  "kernelspec": {
   "display_name": "Python 3",
   "language": "python",
   "name": "python3"
  },
  "language_info": {
   "codemirror_mode": {
    "name": "ipython",
    "version": 3
   },
   "file_extension": ".py",
   "mimetype": "text/x-python",
   "name": "python",
   "nbconvert_exporter": "python",
   "pygments_lexer": "ipython3",
   "version": "3.9.0"
  }
 },
 "nbformat": 4,
 "nbformat_minor": 5
}
