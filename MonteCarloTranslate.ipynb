{
 "cells": [
  {
   "cell_type": "markdown",
   "metadata": {},
   "source": [
    "# Network Reconstruction Methods for recovering the degree distribution \n",
    "\n",
    "This notebook is implementing some of Raul's methods for recovering the degree distribution of edge-sampled networks. \n",
    "\n",
    "## Notation:\n",
    "* $G(V,E)$ original graph with $N$ nodes, $M$ links. \n",
    "* Sampled graph $G'(V',E')$ with $N'$ nodes, $M'$ links."
   ]
  },
  {
   "cell_type": "code",
   "execution_count": 1,
   "metadata": {},
   "outputs": [],
   "source": [
    "import networkx as nx\n",
    "import numpy as np\n",
    "import matplotlib.pyplot as plt\n",
    "import pandas as pd\n",
    "import random\n",
    "\n",
    "from collections import Counter\n",
    "a4_dims = (11.69,8.27)\n",
    "import seaborn as sns\n",
    "from scipy.special import comb"
   ]
  },
  {
   "cell_type": "markdown",
   "metadata": {},
   "source": [
    "## Util functions for edge sampling\n",
    "\n",
    "First are some functions for getting binomial probabilities and for edge-sampling a network."
   ]
  },
  {
   "cell_type": "code",
   "execution_count": 2,
   "metadata": {},
   "outputs": [],
   "source": [
    "## binomial function which will be useful for Bayes\n",
    "def binom(k,k_sampled,p):\n",
    "    return comb(k,k_sampled)* np.power(p,k_sampled)*np.power(1-p,k-k_sampled)"
   ]
  },
  {
   "cell_type": "code",
   "execution_count": 3,
   "metadata": {},
   "outputs": [],
   "source": [
    "def edge_sample(G,p,random_seed=None):\n",
    "    # optionally seed for reproducibility\n",
    "    random.seed(random_seed)\n",
    "    H = nx.Graph()\n",
    "    for (u,v) in G.edges:\n",
    "        if random.random()<p:\n",
    "            H.add_edge(u,v)\n",
    "    return H"
   ]
  },
  {
   "cell_type": "markdown",
   "metadata": {},
   "source": [
    "## MME Estimator\n",
    "\n",
    "The first estimator we use is what was described in Ganguly et al's paper as the MME (method of moments estimator), defined as $\\hat{k} = k'/p$. It is an unbiased maximum likelihood estimator for the parameter $k$ in a binomial random variable $k' \\sim B(k,p)$.\n",
    "\n",
    "### Notes \n",
    "* We round each obtained degree to an integer.\n",
    "* Because of observed sampled degrees being an integer, all estimated degrees are multiples of $1/p$. E.g. if $p=0.05$ our estimated degrees will all be something like 20, 40 etc."
   ]
  },
  {
   "cell_type": "code",
   "execution_count": 4,
   "metadata": {},
   "outputs": [
    {
     "name": "stdout",
     "output_type": "stream",
     "text": [
      "[ 6  4 10  4]\n"
     ]
    }
   ],
   "source": [
    "## Basic estimator for degree sequence which does not redistribute any spare or missing links\n",
    "def deg_MME_basic(k_seq,sample_prob,as_int=False):\n",
    "    if sample_prob==0.0:\n",
    "        return np.zeros(shape=len(k_seq), dtype=float)\n",
    "    estimated = k_seq/sample_prob\n",
    "    if (as_int):\n",
    "        return np.array([*map(int,estimated)])\n",
    "    return estimated\n",
    "\n",
    "print(deg_MME_basic(np.array([3,2,5,2]),0.5,True))"
   ]
  },
  {
   "cell_type": "markdown",
   "metadata": {},
   "source": [
    "## Corrected MME estimator\n",
    "\n",
    "Here we take into account the estimated number of links $M'/p$. Depending on the value of $p$ (specifically, whether or not $1/p$ is an integer), since each degree is rounded, we may not have the relation $\\lfloor 2M'/p \\rfloor = \\sum_{i=1}^{N'} \\lfloor k_i'/p \\rfloor $ that is an identity for proper graph degree sequences. We may have too high or too low *total degree* (RHS).\n",
    "\n",
    "In this procedure, we first calculate the basic MME estimator for the degree sequence and for the number of links, then adjust for differences by either randomly adding links or randomly removing links as required.\n",
    "\n",
    "### Notes\n",
    "* If $1/p$ is an integer, this procedure won't change anything as the estimated number of links (multiplied by 2) will be equal to the expected degree sum."
   ]
  },
  {
   "cell_type": "code",
   "execution_count": 5,
   "metadata": {},
   "outputs": [],
   "source": [
    "## Estimator which first obtains MME one then deals with rounding discrepency by redistributing links\n",
    "def deg_MME(sampled_graph, probability_keep, redistribute_links=True):\n",
    "\n",
    "    # Number of nodes/links in sampled graph\n",
    "    N_prime, M_prime = sampled_graph.number_of_nodes(), sampled_graph.number_of_edges()\n",
    "\n",
    "    ## Estimated number of links from sampled graph\n",
    "    M_estimated = int(M_prime/probability_keep)\n",
    "\n",
    "    ## Sampled and scaled-up degree distribution\n",
    "    k_prime = np.array([d for (_,d) in nx.degree(sampled_graph)])\n",
    "    k_est = deg_MME_basic(k_seq=k_prime,sample_prob=probability_keep,as_int=True)\n",
    "\n",
    "    if (redistribute_links==False):\n",
    "        return np.array(k_est)\n",
    "\n",
    "    ## \"Left over\" stubs from the rounding process\n",
    "    k_spare = 2*M_estimated - sum(k_est)\n",
    "\n",
    "    ## Distribute these random stubs if there are any\n",
    "    if k_spare>0:\n",
    "        sampled_nodes = random.sample(range(N_prime),k_spare)\n",
    "        for node in sampled_nodes:\n",
    "            k_est[node]+=1\n",
    "\n",
    "    ## If we have given nodes more connections than there are links, randomly remove some\n",
    "    if k_spare<0:\n",
    "        non_isolated_nodes = list(filter(lambda ind: k_est[ind]>0, range(N_prime)))\n",
    "        sampled_nodes = random.sample(non_isolated_nodes,abs(k_spare))\n",
    "        for node in sampled_nodes:\n",
    "            k_est[node]-=1\n",
    "    \n",
    "    return np.array(k_est) "
   ]
  },
  {
   "cell_type": "markdown",
   "metadata": {},
   "source": [
    "## Univariate Risk Minimiser\n",
    "\n",
    "from Estimation of Vertex Degrees in a Sampled Network, A. Ganguly and E. Kolaczyk. Does not improve upon the MME very much at all."
   ]
  },
  {
   "cell_type": "code",
   "execution_count": 21,
   "metadata": {},
   "outputs": [
    {
     "name": "stdout",
     "output_type": "stream",
     "text": [
      "[1.         2.33333333 1.         2.33333333 1.         4.2\n",
      " 1.         1.         1.         4.2       ]\n",
      "[0 2 0 2 0 4 0 0 0 4]\n"
     ]
    }
   ],
   "source": [
    "def deg_RME(sampled_graph, probability_keep):\n",
    "    k_prime = np.array([d for (_,d) in nx.degree(sampled_graph)])\n",
    "\n",
    "    minimiser = lambda k: k**2/(probability_keep * (k + 1 - probability_keep)) + (1-probability_keep)/probability_keep\n",
    "    return minimiser(k_prime)\n",
    "\n",
    "# H = nx.erdos_renyi_graph(10,0.1)\n",
    "# print(deg_RME(H,0.5))\n",
    "# print(deg_MME(H,0.5,False))"
   ]
  },
  {
   "cell_type": "markdown",
   "metadata": {},
   "source": [
    "## Monte Carlo estimator\n",
    "\n",
    "This process starts off with the degree sequence estimated by the MME and tries to improve it by comparing samples from that estimated degree sequence of $G$ with our observed degree sequence in $G'$. \n",
    "\n",
    "At each step, a link in the estimated degree distribution is randomly rewired and we calculate the expected degree sequence if we were link-sampling it with probability $p$. If it is closer to the degree sequence of $G'$ than before, then we accept the proposed rewire, otherwise reject."
   ]
  },
  {
   "cell_type": "code",
   "execution_count": 6,
   "metadata": {},
   "outputs": [],
   "source": [
    "## Process for randomly redistributing links\n",
    "def monte_carlo_degree(sampled_graph,probability_keep):\n",
    "\n",
    "    # Number of nodes/links in sampled graph\n",
    "    N_prime, M_prime = sampled_graph.number_of_nodes(), sampled_graph.number_of_edges()\n",
    "\n",
    "    observed_degree = np.array([d for (_,d) in nx.degree(sampled_graph)])\n",
    "    estimated_degree = deg_MME(sampled_graph=sampled_graph, probability_keep=probability_keep,redistribute_links=True)\n",
    "\n",
    "    ## Expected degree of sampled network according to binomial\n",
    "    sampled_sequence = estimated_degree * probability_keep *1.0\n",
    "    #print(sampled_sequence)\n",
    "\n",
    "    ## Sum of squared distances as base quality metric\n",
    "    ssd_current = sum((sampled_sequence - observed_degree)**2)\n",
    "    #print(observed_degree)\n",
    "    \n",
    "    # Commence Monte Carlo process\n",
    "    # NB stuck in global minima if 1/p is an integer.\n",
    "    cts_accept=0\n",
    "    for i in range(15000):\n",
    "        ## Randomly rewire an edge\n",
    "        [n1, n2] = random.sample(range(N_prime),2)\n",
    "        # if i==1:\n",
    "        #     print(n1,n2)\n",
    "\n",
    "        ## Ensure we don't leave any isolated nodes\n",
    "        while(estimated_degree[n1]<=1):\n",
    "            [n1,n2] = random.sample(range(N_prime),2)\n",
    "        estimated_degree[n1]-=1\n",
    "        estimated_degree[n2]+=1\n",
    "\n",
    "        sampled_sequence = estimated_degree * probability_keep\n",
    "        ssd_new = sum((sampled_sequence - observed_degree)**2)\n",
    "\n",
    "        ## Reject step if error is larger:\n",
    "        if (ssd_new > ssd_current):\n",
    "            estimated_degree[n1]+=1\n",
    "            estimated_degree[n2]-=1\n",
    "        else:\n",
    "            ssd_current = ssd_new\n",
    "            cts_accept+=1\n",
    "\n",
    "    return estimated_degree, ssd_current, cts_accept\n",
    "\n"
   ]
  },
  {
   "cell_type": "markdown",
   "metadata": {},
   "source": [
    "## Link cascade method\n",
    "Previously used methods do not take into account isolated nodes, they only compare the difference in degree for nodes that are in $G'$ (i.e. those that end up with degree $>=1$). The following method assumes we know the number of nodes which end up being degree 0 in $G'$.\n",
    "\n",
    "1. Start off with the MME estimate of the degree sequence (including the zeros for isolated nodes).\n",
    "2. Rank the nodes in decreasing order of degree.\n",
    "3. Find the highest rank node that has degree 0, and steal a link from the node directly above it in the rankings.\n",
    "4. Repeat step 3 until there are no zero-degree nodes."
   ]
  },
  {
   "cell_type": "code",
   "execution_count": 7,
   "metadata": {},
   "outputs": [],
   "source": [
    "def degree_cascade(sampled_graph, no_isolates, probability_keep):\n",
    "    \n",
    "    # Number of nodes/links in sampled graph\n",
    "    N_prime, M_prime = sampled_graph.number_of_nodes(), sampled_graph.number_of_edges()\n",
    "\n",
    "    ## Run monte carlo \n",
    "    mme_degrees_wo_isolates = deg_MME(sampled_graph=sampled_graph,probability_keep=probability_keep,redistribute_links=True)\n",
    "    mme_degrees = np.concatenate([mme_degrees_wo_isolates,np.zeros(no_isolates,dtype=int)])\n",
    "\n",
    "    ## get the permutation of degrees into right order and the reverse of this.\n",
    "    node_index = np.argsort(-1*mme_degrees)\n",
    "    reverse_index = np.argsort(node_index)\n",
    "    inds = list(filter(lambda i: mme_degrees[i]==0,node_index))\n",
    "\n",
    "    ## make sorted list as a copy\n",
    "    mme_degrees_copy = [mme_degrees[i] for i in node_index]\n",
    "    while (len(inds)>0):\n",
    "        # find highest node in the list that has degree 0.\n",
    "        ind = min(inds)\n",
    "        mme_degrees_copy[ind-1] -= 1\n",
    "        mme_degrees_copy[ind] += 1\n",
    "        inds = list(filter(lambda i: mme_degrees_copy[i]==0, node_index))\n",
    "\n",
    "    cascaded_degrees = [mme_degrees_copy[i] for i in reverse_index]\n",
    "    return cascaded_degrees"
   ]
  },
  {
   "cell_type": "markdown",
   "metadata": {},
   "source": [
    "## Bayes method\n",
    "\n",
    "This part uses the Bayes method of chapter 6 of my thesis to construct a posterior degree distribution. However, this time, instead of just using Poisson and true prior, we use these 3 estimates of the degree distribution as a prior, named \"MME\", \"Cascaded\" and \"Monte Carlo\"."
   ]
  },
  {
   "cell_type": "code",
   "execution_count": 8,
   "metadata": {},
   "outputs": [],
   "source": [
    "## Bayes estimate, nb supply the prior as a degree sequence rather than counts of different degrees.\n",
    "def bayes_approx(prior_as_sequence,sampled_graph,prob_retain):\n",
    "    observed = np.array([d for (_,d) in nx.degree(sampled_graph)])\n",
    "    N_approx = len(prior_as_sequence)\n",
    "\n",
    "    ## transform from degree sequence to degree distribution\n",
    "    deg_counts = Counter(prior_as_sequence)\n",
    "\n",
    "    ## max value to use for the degree\n",
    "    k_max = max(deg_counts.elements())\n",
    "\n",
    "    ## construct prior from approx sequence\n",
    "    prior = [deg_counts[k]/N_approx for k in range(k_max+1)]\n",
    "    posterior = np.zeros(N_approx)\n",
    "\n",
    "    for i in range(N_approx):\n",
    "        k_observed = observed[i]\n",
    "        k_range = range(k_observed,k_max+1)\n",
    "\n",
    "        ## lambda function so can be applied to numpy array\n",
    "        binom_ev = lambda k : binom(k,k_observed,prob_retain)\n",
    "\n",
    "        denom = np.dot(binom_ev(k_range),prior[k_observed:k_max+1])\n",
    "        numer = np.dot(binom_ev(k_range)*k_range,prior[k_observed:k_max+1])\n",
    "        if (denom>0):\n",
    "            posterior[i]=numer/denom\n",
    "    return posterior\n",
    "    "
   ]
  },
  {
   "cell_type": "code",
   "execution_count": 9,
   "metadata": {},
   "outputs": [],
   "source": [
    "## Utility function for mean squared difference between two arrays\n",
    "def mse(seq1, seq2):\n",
    "    return sum((seq1-seq2)**2)/len(seq1)"
   ]
  },
  {
   "cell_type": "markdown",
   "metadata": {},
   "source": [
    "## Main experiment. \n",
    "\n",
    "We start with an Erdos-Renyi graph of 1000 nodes and 5000 edges (average degree 10). We make edge samples going from $p=0.05$ to $p=1.0$ going up by 0.05. For each parameter we run 10 experiments and collect the mean and sd to get error bars.\n",
    "\n",
    "The estimators we are interested in are:\n",
    "* MME ($k'/p$ estimator)\n",
    "* \"Cascaded\" links estimator\n",
    "* Monte Carlo estimator\n",
    "* Bayes with MME prior\n",
    "* Bayes with cascaded links prior\n",
    "* Bayes with Monte Carlo prior\n",
    "* Bayes with true prior (we expect this to give an almost exact answer)\n",
    "\n",
    "The error metric to compare the real and estimated degree sequence is the mean squared error in all cases."
   ]
  },
  {
   "cell_type": "code",
   "execution_count": 10,
   "metadata": {},
   "outputs": [
    {
     "name": "stdout",
     "output_type": "stream",
     "text": [
      "Experiment 0\n",
      "Experiment 1\n",
      "Experiment 2\n",
      "Experiment 3\n",
      "Experiment 4\n",
      "Experiment 5\n",
      "Experiment 6\n",
      "Experiment 7\n",
      "Experiment 8\n",
      "Experiment 9\n"
     ]
    }
   ],
   "source": [
    "N,M=1000,5000\n",
    "G = nx.gnm_random_graph(N,M)\n",
    "\n",
    "p_range = np.linspace(0.05,1.0,20)\n",
    "\n",
    "experiments = 10\n",
    "\n",
    "mme = np.zeros((experiments,len(p_range)))\n",
    "monte_carlo = np.zeros((experiments,len(p_range)))\n",
    "cascade = np.zeros((experiments,len(p_range)))\n",
    "bayes_mc = np.zeros((experiments,len(p_range)))\n",
    "bayes_csc = np.zeros((experiments,len(p_range)))\n",
    "bayes_true = np.zeros((experiments,len(p_range)))\n",
    "\n",
    "def single_run(run_number):\n",
    "    for ind, p in enumerate(p_range):\n",
    "        H = edge_sample(G,p)\n",
    "\n",
    "        ## True degree sequence of nodes in G that are in H\n",
    "        true_degrees = np.array([nx.degree(G)[n] for n in H.nodes])\n",
    "        full_degrees = np.array([nx.degree(G)[n] for n in H.nodes]+[nx.degree(G)[n] for n in G.nodes if n not in H.nodes])\n",
    "\n",
    "        ## MME and associated error\n",
    "        mme_seq = deg_MME(H,p,True)\n",
    "        mme[run_number,ind] = mse(mme_seq,true_degrees)\n",
    "\n",
    "        ## Cascaded degrees and error\n",
    "        csc_seq = degree_cascade(H,G.number_of_nodes() - H.number_of_nodes(),p)\n",
    "        cascade[run_number,ind] = mse(csc_seq,full_degrees)\n",
    "\n",
    "        ## Monte carlo improvement\n",
    "        deg, ssd_error, accepted = monte_carlo_degree(H,p)\n",
    "        monte_carlo[run_number,ind] = mse(deg,true_degrees)\n",
    "        \n",
    "        ## Bayes using monte carlo\n",
    "        posterior_mc = bayes_approx(deg,H,p)\n",
    "        bayes_mc[run_number,ind] = mse(posterior_mc,true_degrees)\n",
    "\n",
    "        ## Bayes using cascaded degrees\n",
    "        csc_H = np.array(csc_seq[:H.number_of_nodes()])\n",
    "        csc_bayes_degrees = bayes_approx(csc_H,H,p)\n",
    "        bayes_csc[run_number,ind] = mse(csc_bayes_degrees,true_degrees)\n",
    "        \n",
    "        ## Bayes using true prior\n",
    "        posterior_true = bayes_approx(true_degrees,H,p)\n",
    "        bayes_true[run_number,ind] = mse(posterior_true,true_degrees)\n",
    "\n",
    "for ex in range(experiments):\n",
    "    print(\"Experiment \"+str(ex))\n",
    "    single_run(ex)\n",
    "    \n",
    "mme_means, mme_sds = mme.mean(axis=0), mme.std(axis=0)\n",
    "csc_means, csc_sds = cascade.mean(axis=0), cascade.std(axis=0)\n",
    "monte_carlo_means, monte_carlo_sds = monte_carlo.mean(axis=0), monte_carlo.std(axis=0)\n",
    "bayes_mc_means, bayes_mc_sds = bayes_mc.mean(axis=0), bayes_mc.std(axis=0)\n",
    "bayes_mc_means, bayes_mc_sds = bayes_mc.mean(axis=0), bayes_mc.std(axis=0)\n",
    "bayes_csc_means, bayes_csc_sds = bayes_csc.mean(axis=0), bayes_csc.std(axis=0)\n",
    "bayes_true_means, bayes_true_sds = bayes_true.mean(axis=0), bayes_true.std(axis=0)\n",
    "    "
   ]
  },
  {
   "cell_type": "code",
   "execution_count": null,
   "metadata": {},
   "outputs": [],
   "source": [
    "# from enum import Enum\n",
    "\n",
    "# class deg_estimator(Enum):\n",
    "#     MME = 1\n",
    "#     MONTE_CARLO = 2\n",
    "#     CASCADE_DEGREES = 3\n",
    "#     BAYES_MME = 4\n",
    "#     BAYES_MONTE_CARLO = 5\n",
    "#     BAYES_CASCADE_DEGREEs = 6\n",
    "#     BAYES_TRUE = 7\n",
    "\n",
    "\n",
    "# def estimation_run(real_graph, sampled_graph, probability_retain, method=deg_estimator.MME):\n",
    "#     ## True degree sequence of nodes in G that are in H\n",
    "#         true_degrees = np.array([nx.degree(real_graph)[n] for n in sampled_graph.nodes])\n",
    "#         full_degrees = np.array([nx.degree(real_graph)[n] for n in sampled_graph.nodes]+[nx.degree(real_graph)[n] for n in real_graph.nodes if n not in sampled_graph.nodes])\n",
    "\n",
    "#         if (method == deg_estimator.MME):\n",
    "#             mme_seq = deg_MME(sampled_graph,probability_retain,True)\n",
    "#             return mse(mme_seq,true_degrees)\n",
    "\n",
    "#         if (method == deg_estimator.MONTE_CARLO):\n",
    "#             mc_seq, ssd_error, accepted = monte_carlo_degree(sampled_graph,probability_retain)\n",
    "#             return mse(mc_seq,true_degrees)\n",
    "\n",
    "#         if (method == deg_estimator.CASCADE_DEGREES):\n",
    "#             csc_seq = degree_cascade(sampled_graph,real_graph.number_of_nodes() - sampled_graph.number_of_nodes(),probability_retain)\n",
    "#             return mse(csc_seq,full_degrees)\n",
    "\n",
    "#         if (method == deg_estimator.BAYES_MME):\n",
    "#             mme_seq = deg_MME(sampled_graph,probability_retain,True)\n",
    "#             ba"
   ]
  },
  {
   "cell_type": "code",
   "execution_count": 11,
   "metadata": {},
   "outputs": [],
   "source": [
    "## shortcut to the plot/fill_inbetween fns\n",
    "def plot_shaded_bars(xrange, means, sds, ax, label=None):\n",
    "    ax.plot(xrange,means,label=label)\n",
    "    ax.fill_between(xrange,means - sds, means+sds, alpha=0.3)\n",
    "    "
   ]
  },
  {
   "cell_type": "code",
   "execution_count": 16,
   "metadata": {},
   "outputs": [
    {
     "data": {
      "image/png": "[encoded data removed]",
      "text/plain": [
       "<Figure size 1200x800 with 1 Axes>"
      ]
     },
     "metadata": {},
     "output_type": "display_data"
    }
   ],
   "source": [
    "from matplotlib import rc\n",
    "\n",
    "## Comment below out if not using dark mode ;)\n",
    "plt.style.use(\"default\")\n",
    "fig, ax = plt.subplots(figsize = (12,8))\n",
    "plot_shaded_bars(p_range,mme_means,mme_sds,ax,label=\"MME\")\n",
    "plot_shaded_bars(p_range,csc_means,csc_sds,ax,label=\"Cascaded\")\n",
    "plot_shaded_bars(p_range,monte_carlo_means,monte_carlo_sds,ax,label=\"Monte Carlo Prior\")\n",
    "plot_shaded_bars(p_range,bayes_mc_means,bayes_mc_sds,ax,label=\"Bayes with MC prior\")\n",
    "plot_shaded_bars(p_range,bayes_csc_means,bayes_csc_sds,ax,label=\"Bayes with Cascaded degrees prior\")\n",
    "plot_shaded_bars(p_range,bayes_true_means, bayes_true_sds,ax, label=\"Bayes with true prior\")\n",
    "\n",
    "#ax.set_yscale('log')\n",
    "ax.legend(loc=\"upper right\",fontsize=20)\n",
    "plt.xlabel(\"p\",fontsize=20)\n",
    "plt.ylabel(\"MSE\",fontsize=20)\n",
    "plt.tight_layout()\n",
    "\n",
    "plt.show()"
   ]
  },
  {
   "cell_type": "markdown",
   "metadata": {},
   "source": [
    "# Triangle Count and Distribution Estimators\n",
    "\n",
    "This section will use the estimators from degree but for the number of triangles per edge and in total.\n",
    "\n",
    "## Basic functions\n",
    "\n",
    "First we define some utility functions for counting number of common neighbours between node pairs and triangles per edge, as well as wedge counts"
   ]
  },
  {
   "cell_type": "code",
   "execution_count": 22,
   "metadata": {},
   "outputs": [],
   "source": [
    "def common_neighbours(n1, n2, G):\n",
    "    n1neigh = set(G.neighbors(n1))\n",
    "    n2neigh = set(G.neighbors(n2))\n",
    "    return len(n1neigh.intersection(n2neigh)), G.has_edge(n1,n2)\n",
    "\n",
    "def triangles(n1, n2, G):\n",
    "    if not G.has_edge(n1,n2):\n",
    "        return 0\n",
    "    else:\n",
    "        return len(list(nx.common_neighbors(G,n1,n2)))\n",
    "\n",
    "def edge_triangle_count(G):\n",
    "    tc = []\n",
    "    for i in G.nodes():\n",
    "        for j in G.neighbors(i):\n",
    "            if i>j:\n",
    "                continue\n",
    "            tc.append(triangles(i,j,G))\n",
    "    return tc\n",
    "\n",
    "def edge_triangle_dict(G):\n",
    "    tc={}\n",
    "    for u,v in G.edges():\n",
    "        tc[(min(u,v),max(u,v))]=triangles(u,v,G)\n",
    "    return tc\n",
    "\n",
    "\n",
    "def local_wedge_count(G):\n",
    "    nodes = sorted(G.nodes())\n",
    "    ec = []\n",
    "    for i in range(len(nodes)):\n",
    "        for j in range(i):\n",
    "            cn = common_neighbours(nodes[i],nodes[j],G)\n",
    "            if cn[0]!=0:\n",
    "                ec.append(cn[0])\n",
    "    return ec\n",
    "\n",
    "def wedge_count(G):\n",
    "    return 0.5*sum([d*(d-1) for n,d in G.degree()])"
   ]
  },
  {
   "cell_type": "markdown",
   "metadata": {},
   "source": [
    "## MME estimators for triangles and clustering\n",
    "\n",
    "Some functions for MME estimators of clustering coefficient and triangle count."
   ]
  },
  {
   "cell_type": "code",
   "execution_count": 23,
   "metadata": {},
   "outputs": [],
   "source": [
    "def scaleup_triangle_count(tri_array, p):\n",
    "    return [round(1.0/p**3*ct) for ct in tri_array]\n",
    "\n",
    "def scaleup_wedge(H,p):\n",
    "    return 1.0/p**2*wedge_count(H)\n",
    "\n",
    "def scaleup_local_wedge(H,p):\n",
    "    return 1.0/p**2*np.array(H)\n",
    "\n",
    "def scaleup_clustering_coeff(H,p):\n",
    "    wc = 1.0/p**2*wedge_count(H)\n",
    "    t_array = scaleup_triangle_count(edge_triangle_count(H),p)\n",
    "    tc = sum(t_array)\n",
    "    return t_array/wc\n",
    "\n",
    "def tot_tri_estimate(H,p):\n",
    "    tri_array = edge_triangle_count(H)/p**3\n",
    "    return sum(tri_array)"
   ]
  },
  {
   "cell_type": "markdown",
   "metadata": {},
   "source": [
    "## Probability Mass Functions for triangle count of sampled network"
   ]
  },
  {
   "cell_type": "code",
   "execution_count": 24,
   "metadata": {},
   "outputs": [],
   "source": [
    "def triangle_likelihood(t,tc,p):\n",
    "    return comb(t,tc)*np.power((1.0-p*p),t)\n",
    "\n",
    "def triangle_likelihood_normalised(t,tc,p):\n",
    "    return math.comb(t,tc)*math.pow(p,2.0*tc)*math.pow(1.0-p*p,t-tc)"
   ]
  },
  {
   "cell_type": "markdown",
   "metadata": {},
   "source": [
    "# Degree-degree correlations"
   ]
  },
  {
   "cell_type": "code",
   "execution_count": 69,
   "metadata": {},
   "outputs": [
    {
     "name": "stdout",
     "output_type": "stream",
     "text": [
      "[ 1  2  4  3  5  6  1  5  4  4  0  7  5  5  6  5  1  8  6  2  6  4  6  4\n",
      "  3  1  6  3  1  6  3  9  0  4  6  5  5  4  8  7  5  0  7  3  7  6  1  4\n",
      "  5  7  4  7  5  3  5  6  5  5  3  4  6  7  8  6  3  3  7  5  3  3  6  5\n",
      "  6  2  6  3  3  5  0  2  5  4  6  4  2  6  7  6  4  3  6  2  7  5  5  2\n",
      "  6  8  3  3  7  6  0  4  6  0  2  1  5  2  4  2  4  4  5  5  3  2  2  5\n",
      "  6  0  5  2  3  6  4  4  2  5  7  4  4  3  1  5  1  5  4  5  5  7  0  7\n",
      "  2  6  7  5  7  5  0  7  8  6  2  4  8  3  5  7  3  6  5  4  6  4  6  7\n",
      "  6  3  8  5  6  3  4  3  7  8  4  6  7  3 10  6  5  7  6  6  5  5  7  3\n",
      "  4  7  5  5  4  7  5  0  3  7  0  8  3  2  7  5  3  5  3  6  3  7  2  5\n",
      "  0  2  5  6  6  8  6  0  4  6  4  7  1  6  6  7  6  5  3  6  5  6  6  8\n",
      "  2  8  6  3  2  4  1  2  7  5  1  2  3  0  7  7  3  4  5  0  7  9  2  6\n",
      "  4  8  5  5  3  6  6  2  6  5  7  3  6  2  3  3  7  6  7  7  6  0  0  8\n",
      "  1  7  6  4  6  6  8  5  6  3  6  0  2  6  9  6  5  6  4  1  3  4  4  0\n",
      "  4  1  6  5  4  8  8  6  4  4  7  5  7  4  7  6  3  3  7  4  3  3  6  6\n",
      "  6  2  5  6  4  1  3  4  4  6  7  8  3  0  2  8  7  7  4  7  4  2  5  6\n",
      "  1  7  2  6  1  3  6  0  6  6  6  0  5  0  2  4  3  5  7  7  6  3  7  3\n",
      "  0  5  7  6  4  4  1  6  1  6  7  5  6  3  4  1  3  5  7  7  2  6  5  2\n",
      "  6  3  6  7  3  8  4  7  5  6  2  3  0  6  1  1  7  4  6  4  5  6  6  5\n",
      "  5  4  7  3  7  4  4  5  8  4  1  4  4  4  5  5  4  6  1  6  4  8  7  6\n",
      "  5  3  4  7  6  6  2  4  8  5  3  8  3  7  8  3  2  3  7  5  6  5  6  6\n",
      "  1  3  7  6  6  4  4  2  6  6  4  5  1  7  6  4  6  4  2  1  4  6  5  0\n",
      "  6  5  5  1  4  4  0  6  6  1  2  0  7  0  5  7  4  7  5  7  0  4  7  6\n",
      "  3  3  6  5  6  4  5  7  5  2  0  5  4  7  6  5  6  0  5  4  4  3  4  2\n",
      "  8  4  0  1  4  2  6  7  3  3  2  2  5  7  5  9  4  7  0  6  6  8  3  5\n",
      "  5  3  7  0  6  4  5  6  7  2  0  6  7  4  5  5  4  6  2  6  4  6  4  4\n",
      "  6  7  5  8  6  4  6  2  2  4  6  5  6  8  6  7  4  3  7  6  7  1  7  6\n",
      "  2  2  8  6  3  6  7  2  5  7  6  4  5  3  6  0  4  4  5  2  6  3  6  4\n",
      "  8  5  6  2  6  2  5  5  5  3  3  6  5  3  4  5  6  6  7  4  7  5  2  6\n",
      "  6  1  6  7  4  3  4  4  7  1  7  6  4  5  6  5  6  1  8  2  2  5  7  4\n",
      "  7  3  5  5  3  5  7  4  1  4  6  7  7  0  7  4  6  2  8  7  5  6  1  0\n",
      "  4  6  1  6  7  2  4  1  0  6  7  3  5  8  2  8  5  3  0  5  0  2  2  7\n",
      "  2  3  4  7  3  6  6  1  7  4  6  0  4  2  1  4  6  5  2  1  1  6  5  6\n",
      "  3  0  6  5  4  6  1  0  1  0  5  2  5  8  2  7  7  8  6  7  5  6  5  1\n",
      "  5  8  6  6  5  7  3  6  6  5  7  3  5  7  4  5  1  3  5  4  6  1  0  5\n",
      "  4  5  2  8  0  7  6  6  2  4  3  8  6  7  6  6  1  4  1  7  7  6  4  5\n",
      "  6  5  5  1  6  5  4  4  3  7  3  4  1  6  2  3  7  2  7  6  0  4  3  5\n",
      "  8  6  1  7  3  5  8  5  6  6  6  2  4  3  6  3  2  7  6  6  7  4  2  5\n",
      "  1  4  6  5  7  8  6  6  3  5  7  6  2  8  6  4  5  7  5  0  5  7  1  4\n",
      "  1  4  0  8  7  3  6  2  6  3  3  6  0  3  5  4  7  3  1  5  3  6  4  1\n",
      "  7  5  9  4  3  7  2  4  6  6  6  7  7  6  5  1  7  3  1  3  7  4  3  2\n",
      "  6  5  5  5  3  1  1  0  4  2  7  6  6  3  6  5  6  3  4  3  6  0  4  5\n",
      "  6  3  3  6  7  3  5  7  7  6  6  4  3  4  5  6]\n",
      "[ 0 12  8  9  0  4 13  1  1  6 18  2  8  5  3  0 12  1  1 11  2  7  1  6\n",
      " 10 11  5  8 11  2  8  0 18  7  4  6  5  5  3  0  4 13  3 10  4  2 13  7\n",
      "  3  1  0  1  4  8  4  1  4  5 10  7  3  3  1  3  7  6  2  5  8 11  2  0\n",
      "  0  8  5  8  8  6 13 12  0  7  7  8  9  0  2  3  6 10  4 10  2  1  5 14\n",
      "  3  0  8  9  2  5 17  8  1 13  9 12  5 10  7  9  0  6  6  0  8 10  8  5\n",
      "  4 15  5 13  9  4  7  7 12  6  0  7  4  8 15  4 13  4  7  3  0  0 16  3\n",
      " 13  2  2  4  2  2 16  1  0  2 10  6  2  9  2  0  8  3  4  1  3  6  2  2\n",
      "  1  8  2  5  0  0  5  0  2  1  9  3  0  9  0  5  3  2  0  1  5  4  0 11\n",
      "  7  0  2  1  8  1  5 16  8  6 18  1 12  9  1  1  8  6 10  1  9  2  9  7\n",
      " 16 14  3  0  0  2  0 20  9  2  8  0 12  1  0  0  0  5 11  2  3  5  2  2\n",
      " 11  0  3  0 10  7 14 11  1  5  0 11  1 20  2  0  9  7  2 14  4  1  9  1\n",
      "  0  1  4  7  7  2  0 11  2  2  0  9  3 10  9 10  0  4  1  1  0 14 16  2\n",
      " 12  2  2  0  4  2  1  4  4  6  0 19 12  4  2  1  6  2  7 12  6  5  4 17\n",
      "  6 13  1  2  6  3  1  0  3  4  1  0  0  0  2  1 10  8  2  8  8  9  5  6\n",
      "  1 11  0  5  7 14  7  3  7  3  2  0  9 16 10  0  4  3  3  3  0 11  0  2\n",
      " 13  3 11  0 12  8  4 13  2  1  2 17  0 17 11  7  9  2  2  0  5  7  0  1\n",
      " 13  1  1  5  8  1 15  0 12  4  2  4  0  5  7 13 11  6  0  1 11  1  0  9\n",
      "  2 10  3  5 10  0  7  1  0  0 12 10 19  1 14 12  1  0  2  5  0  2  2  5\n",
      "  8  8  1  8  1  8  2  6  1 10 14  6  6  7  0  6  5  3 10  4  7  1  2  1\n",
      "  6 10  0  2  3  4 11  0  1  2 10  0  7  2  0 11  9  8  2  0  3  4  2  2\n",
      " 13  9  3  4  2  0  5 12  1  1  8  1 14  2  0  8  1  7  9 11  9  0  4 17\n",
      "  0  5  0 13  9  7 16  1  1 12 11 14  3 20  5  3  6  2  8  2 17  8  3  2\n",
      "  0 11  4  0  5  6  6  2  5 12 18  7  8  4  1  0  0 13  0  3  1  0  6 11\n",
      "  2  9 15 10  0  6  4  3  0 10 11 11  4  1  5  1  8  2 20  1  1  2 10  6\n",
      "  7  9  1 17  4  8  5  2  0 10 14  3  0  7  2  0  6  3 13  3  3  2  5  1\n",
      "  2  1  4  1  3  0  2 11 12  8  2  5  4  2  4  0  6  8  3  2  4 13  1  1\n",
      " 10  9  1  0  8  3  0 12  6  3  0  5  6 10  0 16  8  6  4 11  0  0  1  9\n",
      "  0  6  2 11  3 12  5  7  7  7  8  4  6 11  5  6  1  0  2  7  2  2  0  4\n",
      "  0 11  2  2  7  9  7  7  1 15  3  5  0  2  1  0  6 14  2 13 10  4  2  8\n",
      "  2  0  3  0  9  4  1  8 13 10  2  2  3 18  1  5  3  9  2  1  8  1 11 19\n",
      "  7  0 13  3  1 10  8 13 16  2  4  9  6  3 11  0  3  9 16  3 14  8 11  4\n",
      " 12 10  7  3  9  6  4 12  4  8  3 17  3 13 13  7  0  3 12 12 13  6  0  2\n",
      "  9 16  1  5  7  0 12 22 11 14  4  8  5  1  8  2  0  1  1  5  7  2  0  0\n",
      "  6  0  3  0  3  1 12  1  2  6  4  9  5  2  8  7 13  8  7  7  1 12 17  5\n",
      "  0  0 14  2 15  1  4  4 10  1  0  0  1  1  3  4 12  8 12  2  2  4  8  2\n",
      "  1  3  5 16  2  7  0  7 10  3  8  9 14  4 13 10  1 11  1  2 15  1  7  3\n",
      "  1  3 10  2 13  7  0  7  0  0  0 10  9  8  6  8 14  1  0  1  0  4  9  4\n",
      " 15  8  5  3  1  1  1  4  7  7  0  5  8  1  3  6  4  0  5 18  5  4 13  0\n",
      " 13  0 17  3  2  8  1 10  0  9  8  4 16  9  4  3  3 11 16  2  7  0  8 11\n",
      "  1  4  0  9 10  2 11  7  5  4  0  3  0  4  6 15  1  8 11  7  3  7  8 12\n",
      "  0  4  3  0  6 15 14 16  6 11  2  0  4  0  1  0  2 12  6  9  0 13  7  7\n",
      "  0 10  0  4  2  8  0  2  0  1  5  5 10  6  3  4]\n"
     ]
    }
   ],
   "source": [
    "# Returns the sequence of connections of higher rank\n",
    "def k_plus(graph):\n",
    "    no_nodes = graph.number_of_nodes()\n",
    "    k_plus_arr = np.zeros(no_nodes,dtype=int)\n",
    "    for n in range(no_nodes):\n",
    "        k_plus_arr[n] = len(list(filter(lambda node: nx.degree(graph)[node] > nx.degree(graph)[n],nx.neighbors(graph,n))))\n",
    "    return k_plus_arr\n",
    "\n",
    "def k_minus(graph):\n",
    "    degrees = np.array([d for (_,d) in nx.degree(graph)])\n",
    "    return degrees - k_plus(graph)\n"
   ]
  }
 ],
 "metadata": {
  "interpreter": {
   "hash": "279c352ecfabf70c5fcd67ada6a14b501a5197061c707359690b4f39ee64ba7c"
  },
  "kernelspec": {
   "display_name": "Python 3 (ipykernel)",
   "language": "python",
   "name": "python3"
  },
  "language_info": {
   "codemirror_mode": {
    "name": "ipython",
    "version": 3
   },
   "file_extension": ".py",
   "mimetype": "text/x-python",
   "name": "python",
   "nbconvert_exporter": "python",
   "pygments_lexer": "ipython3",
   "version": "3.9.10"
  }
 },
 "nbformat": 4,
 "nbformat_minor": 2
}
