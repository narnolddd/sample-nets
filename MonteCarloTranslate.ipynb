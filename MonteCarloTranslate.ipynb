{
 "cells": [
  {
   "cell_type": "code",
   "execution_count": 27,
   "metadata": {},
   "outputs": [],
   "source": [
    "import networkx as nx\n",
    "import numpy as np\n",
    "import matplotlib.pyplot as plt\n",
    "import pandas as pd\n",
    "import random\n",
    "import math\n",
    "\n",
    "from collections import Counter\n",
    "a4_dims = (11.69,8.27)\n",
    "from scipy.stats import poisson, zipf, rv_discrete\n",
    "from scipy.stats import ks_2samp\n",
    "import seaborn as sns\n",
    "from scipy.special import comb"
   ]
  },
  {
   "cell_type": "code",
   "execution_count": 28,
   "metadata": {},
   "outputs": [],
   "source": [
    "def binom(k,k_sampled,p):\n",
    "    return comb(k,k_sampled)* np.power(p,k_sampled)*np.power(1-p,k-k_sampled)"
   ]
  },
  {
   "cell_type": "code",
   "execution_count": 29,
   "metadata": {},
   "outputs": [],
   "source": [
    "def edge_sample(G,p,random_seed=None):\n",
    "    # optionally seed for reproducibility\n",
    "    random.seed(random_seed)\n",
    "    H = nx.Graph()\n",
    "    for (u,v) in G.edges:\n",
    "        if random.random()<p:\n",
    "            H.add_edge(u,v)\n",
    "    return H"
   ]
  },
  {
   "cell_type": "code",
   "execution_count": 39,
   "metadata": {},
   "outputs": [
    {
     "name": "stdout",
     "output_type": "stream",
     "text": [
      "[ 6  4 10  4]\n"
     ]
    }
   ],
   "source": [
    "def deg_MME(k_seq,sample_prob,as_int=False):\n",
    "    if sample_prob==0.0:\n",
    "        return np.zeros(shape=len(k_seq), dtype=float)\n",
    "    estimated = k_seq/sample_prob\n",
    "    if (as_int):\n",
    "        return np.array([*map(int,estimated)])\n",
    "    return estimated\n",
    "\n",
    "print(deg_MME(np.array([3,2,5,2]),0.5,True))"
   ]
  },
  {
   "cell_type": "code",
   "execution_count": 45,
   "metadata": {},
   "outputs": [
    {
     "name": "stdout",
     "output_type": "stream",
     "text": [
      "389 262\n",
      "637 525\n",
      "763 751\n",
      "846 956\n",
      "915 1282\n",
      "939 1491\n",
      "977 1820\n",
      "972 1964\n",
      "995 2273\n",
      "992 2483\n",
      "998 2807\n",
      "996 2956\n",
      "999 3277\n",
      "999 3483\n",
      "1000 3741\n",
      "999 3947\n",
      "1000 4222\n",
      "1000 4476\n",
      "1000 4744\n",
      "1000 5000\n"
     ]
    }
   ],
   "source": [
    "N,M=1000,5000\n",
    "G = nx.gnm_random_graph(N,M)\n",
    "p_range = np.linspace(0.05,1.0,20)\n",
    "for p in p_range:\n",
    "    H = edge_sample(G,p)\n",
    "\n",
    "    # Number of nodes/links in sampled graph\n",
    "    N_prime, M_prime = H.number_of_nodes(), H.number_of_edges()\n",
    "    print(N_prime,M_prime)\n",
    "    ## Scale-up estimate for number of links\n",
    "    M_estimated = int(M_prime/p)\n",
    "\n",
    "    ## Sampled and scaled-up degree distribution\n",
    "    k_prime = np.array([d for (n,d) in nx.degree(G)])\n",
    "    k_est = deg_MME(k_seq=k_prime,sample_prob=p, as_int=True)\n",
    "\n",
    "    ## \"Left over\" stubs from the rounding process\n",
    "    k_spare = 2*M_estimated - sum(k_est)\n",
    "\n",
    "    ## Distribute these random stubs\n",
    "    if k_spare>0:\n",
    "        sampled_nodes = random.sample(range(N_prime),k_spare)\n",
    "    else:\n",
    "        sampled_nodes = []\n",
    "    for node in sampled_nodes:\n",
    "        k_est[node]+=1\n",
    "\n",
    "    \n"
   ]
  }
 ],
 "metadata": {
  "interpreter": {
   "hash": "279c352ecfabf70c5fcd67ada6a14b501a5197061c707359690b4f39ee64ba7c"
  },
  "kernelspec": {
   "display_name": "Python 3.9.9 64-bit ('3.9.9')",
   "language": "python",
   "name": "python3"
  },
  "language_info": {
   "codemirror_mode": {
    "name": "ipython",
    "version": 3
   },
   "file_extension": ".py",
   "mimetype": "text/x-python",
   "name": "python",
   "nbconvert_exporter": "python",
   "pygments_lexer": "ipython3",
   "version": "3.9.9"
  },
  "orig_nbformat": 4
 },
 "nbformat": 4,
 "nbformat_minor": 2
}
