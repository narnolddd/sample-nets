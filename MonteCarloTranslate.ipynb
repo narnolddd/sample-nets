{
 "cells": [
  {
   "cell_type": "markdown",
   "metadata": {},
   "source": [
    "# Network Reconstruction Methods for recovering the degree distribution \n",
    "\n",
    "This notebook is implementing some of Raul's methods for recovering the degree distribution of edge-sampled networks. \n",
    "\n",
    "## Notation:\n",
    "* $G(V,E)$ original graph with $N$ nodes, $M$ links. \n",
    "* Sampled graph $G'(V',E')$ with $N'$ nodes, $M'$ links."
   ]
  },
  {
   "cell_type": "code",
   "execution_count": 1,
   "metadata": {},
   "outputs": [],
   "source": [
    "import networkx as nx\n",
    "import numpy as np\n",
    "import matplotlib.pyplot as plt\n",
    "import pandas as pd\n",
    "import random\n",
    "\n",
    "from collections import Counter\n",
    "a4_dims = (11.69,8.27)\n",
    "import seaborn as sns\n",
    "from scipy.special import comb"
   ]
  },
  {
   "cell_type": "markdown",
   "metadata": {},
   "source": [
    "## Util functions for edge sampling\n",
    "\n",
    "First are some functions for getting binomial probabilities and for edge-sampling a network."
   ]
  },
  {
   "cell_type": "code",
   "execution_count": 2,
   "metadata": {},
   "outputs": [],
   "source": [
    "## binomial function which will be useful for Bayes\n",
    "def binom(k,k_sampled,p):\n",
    "    return comb(k,k_sampled)* np.power(p,k_sampled)*np.power(1-p,k-k_sampled)"
   ]
  },
  {
   "cell_type": "code",
   "execution_count": 3,
   "metadata": {},
   "outputs": [],
   "source": [
    "def edge_sample(G,p,random_seed=None):\n",
    "    # optionally seed for reproducibility\n",
    "    random.seed(random_seed)\n",
    "    H = nx.Graph()\n",
    "    for (u,v) in G.edges:\n",
    "        if random.random()<p:\n",
    "            H.add_edge(u,v)\n",
    "    return H"
   ]
  },
  {
   "cell_type": "markdown",
   "metadata": {},
   "source": [
    "## MME Estimator\n",
    "\n",
    "The first estimator we use is what was described in Ganguly et al's paper as the MME (method of moments estimator), defined as $\\hat{k} = k'/p$. It is an unbiased maximum likelihood estimator for the parameter $k$ in a binomial random variable $k' \\sim B(k,p)$.\n",
    "\n",
    "### Notes \n",
    "* We round each obtained degree to an integer.\n",
    "* Because of observed sampled degrees being an integer, all estimated degrees are multiples of $1/p$. E.g. if $p=0.05$ our estimated degrees will all be something like 20, 40 etc."
   ]
  },
  {
   "cell_type": "code",
   "execution_count": 4,
   "metadata": {},
   "outputs": [
    {
     "name": "stdout",
     "output_type": "stream",
     "text": [
      "[ 6  4 10  4]\n"
     ]
    }
   ],
   "source": [
    "## Basic estimator for degree sequence which does not redistribute any spare or missing links\n",
    "def deg_MME_basic(k_seq,sample_prob,as_int=False):\n",
    "    if sample_prob==0.0:\n",
    "        return np.zeros(shape=len(k_seq), dtype=float)\n",
    "    estimated = k_seq/sample_prob\n",
    "    if (as_int):\n",
    "        return np.array([*map(int,estimated)])\n",
    "    return estimated\n",
    "\n",
    "print(deg_MME_basic(np.array([3,2,5,2]),0.5,True))"
   ]
  },
  {
   "cell_type": "markdown",
   "metadata": {},
   "source": [
    "## Corrected MME estimator\n",
    "\n",
    "Here we take into account the estimated number of links $M'/p$. Depending on the value of $p$ (specifically, whether or not $1/p$ is an integer), since each degree is rounded, we may not have the relation $\\lfloor 2M'/p \\rfloor = \\sum_{i=1}^{N'} \\lfloor k_i'/p \\rfloor $ that is an identity for proper graph degree sequences. We may have too high or too low *total degree* (RHS).\n",
    "\n",
    "In this procedure, we first calculate the basic MME estimator for the degree sequence and for the number of links, then adjust for differences by either randomly adding links or randomly removing links as required.\n",
    "\n",
    "### Notes\n",
    "* If $1/p$ is an integer, this procedure won't change anything as the estimated number of links (multiplied by 2) will be equal to the expected degree sum."
   ]
  },
  {
   "cell_type": "code",
   "execution_count": 5,
   "metadata": {},
   "outputs": [],
   "source": [
    "## Estimator which first obtains MME one then deals with rounding discrepency by redistributing links\n",
    "def deg_MME(sampled_graph, probability_keep, redistribute_links=True):\n",
    "\n",
    "    # Number of nodes/links in sampled graph\n",
    "    N_prime, M_prime = sampled_graph.number_of_nodes(), sampled_graph.number_of_edges()\n",
    "\n",
    "    ## Estimated number of links from sampled graph\n",
    "    M_estimated = int(M_prime/probability_keep)\n",
    "\n",
    "    ## Sampled and scaled-up degree distribution\n",
    "    k_prime = np.array([d for (_,d) in nx.degree(sampled_graph)])\n",
    "    k_est = deg_MME_basic(k_seq=k_prime,sample_prob=probability_keep,as_int=True)\n",
    "\n",
    "    if (redistribute_links==False):\n",
    "        return np.array(k_est)\n",
    "\n",
    "    ## \"Left over\" stubs from the rounding process\n",
    "    k_spare = 2*M_estimated - sum(k_est)\n",
    "\n",
    "    ## Distribute these random stubs if there are any\n",
    "    if k_spare>0:\n",
    "        sampled_nodes = random.sample(range(N_prime),k_spare)\n",
    "        for node in sampled_nodes:\n",
    "            k_est[node]+=1\n",
    "\n",
    "    ## If we have given nodes more connections than there are links, randomly remove some\n",
    "    if k_spare<0:\n",
    "        non_isolated_nodes = list(filter(lambda ind: k_est[ind]>0, range(N_prime)))\n",
    "        sampled_nodes = random.sample(non_isolated_nodes,abs(k_spare))\n",
    "        for node in sampled_nodes:\n",
    "            k_est[node]-=1\n",
    "    \n",
    "    return np.array(k_est) "
   ]
  },
  {
   "cell_type": "markdown",
   "metadata": {},
   "source": [
    "## Univariate Risk Minimiser\n",
    "\n",
    "from Estimation of Vertex Degrees in a Sampled Network, A. Ganguly and E. Kolaczyk. Does not improve upon the MME very much at all."
   ]
  },
  {
   "cell_type": "code",
   "execution_count": 6,
   "metadata": {},
   "outputs": [],
   "source": [
    "def deg_RME(sampled_graph, probability_keep):\n",
    "    k_prime = np.array([d for (_,d) in nx.degree(sampled_graph)])\n",
    "\n",
    "    minimiser = lambda k: k**2/(probability_keep * (k + 1 - probability_keep)) + (1-probability_keep)/probability_keep\n",
    "    return minimiser(k_prime)\n",
    "\n",
    "# H = nx.erdos_renyi_graph(10,0.1)\n",
    "# print(deg_RME(H,0.5))\n",
    "# print(deg_MME(H,0.5,False))"
   ]
  },
  {
   "cell_type": "markdown",
   "metadata": {},
   "source": [
    "## Monte Carlo estimator\n",
    "\n",
    "This process starts off with the degree sequence estimated by the MME and tries to improve it by comparing samples from that estimated degree sequence of $G$ with our observed degree sequence in $G'$. \n",
    "\n",
    "At each step, a link in the estimated degree distribution is randomly rewired and we calculate the expected degree sequence if we were link-sampling it with probability $p$. If it is closer to the degree sequence of $G'$ than before, then we accept the proposed rewire, otherwise reject."
   ]
  },
  {
   "cell_type": "code",
   "execution_count": 7,
   "metadata": {},
   "outputs": [],
   "source": [
    "## Process for randomly redistributing links\n",
    "def monte_carlo_degree(sampled_graph,probability_keep):\n",
    "\n",
    "    # Number of nodes/links in sampled graph\n",
    "    N_prime, M_prime = sampled_graph.number_of_nodes(), sampled_graph.number_of_edges()\n",
    "\n",
    "    observed_degree = np.array([d for (_,d) in nx.degree(sampled_graph)])\n",
    "    estimated_degree = deg_MME(sampled_graph=sampled_graph, probability_keep=probability_keep,redistribute_links=True)\n",
    "\n",
    "    ## Expected degree of sampled network according to binomial\n",
    "    sampled_sequence = estimated_degree * probability_keep *1.0\n",
    "    #print(sampled_sequence)\n",
    "\n",
    "    ## Sum of squared distances as base quality metric\n",
    "    ssd_current = sum((sampled_sequence - observed_degree)**2)\n",
    "    #print(observed_degree)\n",
    "    \n",
    "    # Commence Monte Carlo process\n",
    "    # NB stuck in global minima if 1/p is an integer.\n",
    "    cts_accept=0\n",
    "    for i in range(15000):\n",
    "        ## Randomly rewire an edge\n",
    "        [n1, n2] = random.sample(range(N_prime),2)\n",
    "        # if i==1:\n",
    "        #     print(n1,n2)\n",
    "\n",
    "        ## Ensure we don't leave any isolated nodes\n",
    "        while(estimated_degree[n1]<=1):\n",
    "            [n1,n2] = random.sample(range(N_prime),2)\n",
    "        estimated_degree[n1]-=1\n",
    "        estimated_degree[n2]+=1\n",
    "\n",
    "        sampled_sequence = estimated_degree * probability_keep\n",
    "        ssd_new = sum((sampled_sequence - observed_degree)**2)\n",
    "\n",
    "        ## Reject step if error is larger:\n",
    "        if (ssd_new > ssd_current):\n",
    "            estimated_degree[n1]+=1\n",
    "            estimated_degree[n2]-=1\n",
    "        else:\n",
    "            ssd_current = ssd_new\n",
    "            cts_accept+=1\n",
    "\n",
    "    return estimated_degree, ssd_current, cts_accept\n",
    "\n"
   ]
  },
  {
   "cell_type": "markdown",
   "metadata": {},
   "source": [
    "## Link cascade method\n",
    "Previously used methods do not take into account isolated nodes, they only compare the difference in degree for nodes that are in $G'$ (i.e. those that end up with degree $>=1$). The following method assumes we know the number of nodes which end up being degree 0 in $G'$.\n",
    "\n",
    "1. Start off with the MME estimate of the degree sequence (including the zeros for isolated nodes).\n",
    "2. Rank the nodes in decreasing order of degree.\n",
    "3. Find the highest rank node that has degree 0, and steal a link from the node directly above it in the rankings.\n",
    "4. Repeat step 3 until there are no zero-degree nodes."
   ]
  },
  {
   "cell_type": "code",
   "execution_count": 8,
   "metadata": {},
   "outputs": [],
   "source": [
    "def degree_cascade(sampled_graph, no_isolates, probability_keep):\n",
    "    \n",
    "    # Number of nodes/links in sampled graph\n",
    "    N_prime, M_prime = sampled_graph.number_of_nodes(), sampled_graph.number_of_edges()\n",
    "\n",
    "    ## Run monte carlo \n",
    "    mme_degrees_wo_isolates = deg_MME(sampled_graph=sampled_graph,probability_keep=probability_keep,redistribute_links=True)\n",
    "    mme_degrees = np.concatenate([mme_degrees_wo_isolates,np.zeros(no_isolates,dtype=int)])\n",
    "\n",
    "    ## get the permutation of degrees into right order and the reverse of this.\n",
    "    node_index = np.argsort(-1*mme_degrees)\n",
    "    reverse_index = np.argsort(node_index)\n",
    "    inds = list(filter(lambda i: mme_degrees[i]==0,node_index))\n",
    "\n",
    "    ## make sorted list as a copy\n",
    "    mme_degrees_copy = [mme_degrees[i] for i in node_index]\n",
    "    while (len(inds)>0):\n",
    "        # find highest node in the list that has degree 0.\n",
    "        ind = min(inds)\n",
    "        mme_degrees_copy[ind-1] -= 1\n",
    "        mme_degrees_copy[ind] += 1\n",
    "        inds = list(filter(lambda i: mme_degrees_copy[i]==0, node_index))\n",
    "\n",
    "    cascaded_degrees = [mme_degrees_copy[i] for i in reverse_index]\n",
    "    return cascaded_degrees"
   ]
  },
  {
   "cell_type": "markdown",
   "metadata": {},
   "source": [
    "## Bayes method\n",
    "\n",
    "This part uses the Bayes method of chapter 6 of my thesis to construct a posterior degree distribution. However, this time, instead of just using Poisson and true prior, we use these 3 estimates of the degree distribution as a prior, named \"MME\", \"Cascaded\" and \"Monte Carlo\"."
   ]
  },
  {
   "cell_type": "code",
   "execution_count": 9,
   "metadata": {},
   "outputs": [],
   "source": [
    "## Bayes estimate, nb supply the prior as a degree sequence rather than counts of different degrees.\n",
    "def bayes_approx(prior_as_sequence,sampled_graph,prob_retain):\n",
    "    observed = np.array([d for (_,d) in nx.degree(sampled_graph)])\n",
    "    N_approx = len(prior_as_sequence)\n",
    "\n",
    "    ## transform from degree sequence to degree distribution\n",
    "    deg_counts = Counter(prior_as_sequence)\n",
    "\n",
    "    ## max value to use for the degree\n",
    "    k_max = max(deg_counts.elements())\n",
    "\n",
    "    ## construct prior from approx sequence\n",
    "    prior = [deg_counts[k]/N_approx for k in range(k_max+1)]\n",
    "    posterior = np.zeros(N_approx)\n",
    "\n",
    "    for i in range(N_approx):\n",
    "        k_observed = observed[i]\n",
    "        k_range = range(k_observed,k_max+1)\n",
    "\n",
    "        ## lambda function so can be applied to numpy array\n",
    "        binom_ev = lambda k : binom(k,k_observed,prob_retain)\n",
    "\n",
    "        denom = np.dot(binom_ev(k_range),prior[k_observed:k_max+1])\n",
    "        numer = np.dot(binom_ev(k_range)*k_range,prior[k_observed:k_max+1])\n",
    "        if (denom>0):\n",
    "            posterior[i]=numer/denom\n",
    "    return posterior\n",
    "    "
   ]
  },
  {
   "cell_type": "code",
   "execution_count": 10,
   "metadata": {},
   "outputs": [],
   "source": [
    "## Utility function for mean squared difference between two arrays\n",
    "def mse(seq1, seq2):\n",
    "    return sum((seq1-seq2)**2)/len(seq1)"
   ]
  },
  {
   "cell_type": "markdown",
   "metadata": {},
   "source": [
    "## Main experiment. \n",
    "\n",
    "We start with an Erdos-Renyi graph of 1000 nodes and 5000 edges (average degree 10). We make edge samples going from $p=0.05$ to $p=1.0$ going up by 0.05. For each parameter we run 10 experiments and collect the mean and sd to get error bars.\n",
    "\n",
    "The estimators we are interested in are:\n",
    "* MME ($k'/p$ estimator)\n",
    "* \"Cascaded\" links estimator\n",
    "* Monte Carlo estimator\n",
    "* Bayes with MME prior\n",
    "* Bayes with cascaded links prior\n",
    "* Bayes with Monte Carlo prior\n",
    "* Bayes with true prior (we expect this to give an almost exact answer)\n",
    "\n",
    "The error metric to compare the real and estimated degree sequence is the mean squared error in all cases."
   ]
  },
  {
   "cell_type": "code",
   "execution_count": 11,
   "metadata": {},
   "outputs": [
    {
     "name": "stdout",
     "output_type": "stream",
     "text": [
      "Experiment 0\n",
      "Experiment 1\n",
      "Experiment 2\n",
      "Experiment 3\n",
      "Experiment 4\n",
      "Experiment 5\n",
      "Experiment 6\n",
      "Experiment 7\n",
      "Experiment 8\n",
      "Experiment 9\n"
     ]
    }
   ],
   "source": [
    "N,M=1000,5000\n",
    "G = nx.gnm_random_graph(N,M)\n",
    "\n",
    "p_range = np.linspace(0.05,1.0,20)\n",
    "\n",
    "experiments = 10\n",
    "\n",
    "mme = np.zeros((experiments,len(p_range)))\n",
    "monte_carlo = np.zeros((experiments,len(p_range)))\n",
    "cascade = np.zeros((experiments,len(p_range)))\n",
    "bayes_mc = np.zeros((experiments,len(p_range)))\n",
    "bayes_csc = np.zeros((experiments,len(p_range)))\n",
    "bayes_true = np.zeros((experiments,len(p_range)))\n",
    "\n",
    "def single_run(run_number):\n",
    "    for ind, p in enumerate(p_range):\n",
    "        H = edge_sample(G,p)\n",
    "\n",
    "        ## True degree sequence of nodes in G that are in H\n",
    "        true_degrees = np.array([nx.degree(G)[n] for n in H.nodes])\n",
    "        full_degrees = np.array([nx.degree(G)[n] for n in H.nodes]+[nx.degree(G)[n] for n in G.nodes if n not in H.nodes])\n",
    "\n",
    "        ## MME and associated error\n",
    "        mme_seq = deg_MME(H,p,True)\n",
    "        mme[run_number,ind] = mse(mme_seq,true_degrees)\n",
    "\n",
    "        ## Cascaded degrees and error\n",
    "        csc_seq = degree_cascade(H,G.number_of_nodes() - H.number_of_nodes(),p)\n",
    "        cascade[run_number,ind] = mse(csc_seq,full_degrees)\n",
    "\n",
    "        ## Monte carlo improvement\n",
    "        deg, ssd_error, accepted = monte_carlo_degree(H,p)\n",
    "        monte_carlo[run_number,ind] = mse(deg,true_degrees)\n",
    "        \n",
    "        ## Bayes using monte carlo\n",
    "        posterior_mc = bayes_approx(deg,H,p)\n",
    "        bayes_mc[run_number,ind] = mse(posterior_mc,true_degrees)\n",
    "\n",
    "        ## Bayes using cascaded degrees\n",
    "        csc_H = np.array(csc_seq[:H.number_of_nodes()])\n",
    "        csc_bayes_degrees = bayes_approx(csc_H,H,p)\n",
    "        bayes_csc[run_number,ind] = mse(csc_bayes_degrees,true_degrees)\n",
    "        \n",
    "        ## Bayes using true prior\n",
    "        posterior_true = bayes_approx(true_degrees,H,p)\n",
    "        bayes_true[run_number,ind] = mse(posterior_true,true_degrees)\n",
    "\n",
    "for ex in range(experiments):\n",
    "    print(\"Experiment \"+str(ex))\n",
    "    single_run(ex)\n",
    "    \n",
    "mme_means, mme_sds = mme.mean(axis=0), mme.std(axis=0)\n",
    "csc_means, csc_sds = cascade.mean(axis=0), cascade.std(axis=0)\n",
    "monte_carlo_means, monte_carlo_sds = monte_carlo.mean(axis=0), monte_carlo.std(axis=0)\n",
    "bayes_mc_means, bayes_mc_sds = bayes_mc.mean(axis=0), bayes_mc.std(axis=0)\n",
    "bayes_mc_means, bayes_mc_sds = bayes_mc.mean(axis=0), bayes_mc.std(axis=0)\n",
    "bayes_csc_means, bayes_csc_sds = bayes_csc.mean(axis=0), bayes_csc.std(axis=0)\n",
    "bayes_true_means, bayes_true_sds = bayes_true.mean(axis=0), bayes_true.std(axis=0)\n",
    "    "
   ]
  },
  {
   "cell_type": "code",
   "execution_count": 12,
   "metadata": {},
   "outputs": [],
   "source": [
    "# from enum import Enum\n",
    "\n",
    "# class deg_estimator(Enum):\n",
    "#     MME = 1\n",
    "#     MONTE_CARLO = 2\n",
    "#     CASCADE_DEGREES = 3\n",
    "#     BAYES_MME = 4\n",
    "#     BAYES_MONTE_CARLO = 5\n",
    "#     BAYES_CASCADE_DEGREEs = 6\n",
    "#     BAYES_TRUE = 7\n",
    "\n",
    "\n",
    "# def estimation_run(real_graph, sampled_graph, probability_retain, method=deg_estimator.MME):\n",
    "#     ## True degree sequence of nodes in G that are in H\n",
    "#         true_degrees = np.array([nx.degree(real_graph)[n] for n in sampled_graph.nodes])\n",
    "#         full_degrees = np.array([nx.degree(real_graph)[n] for n in sampled_graph.nodes]+[nx.degree(real_graph)[n] for n in real_graph.nodes if n not in sampled_graph.nodes])\n",
    "\n",
    "#         if (method == deg_estimator.MME):\n",
    "#             mme_seq = deg_MME(sampled_graph,probability_retain,True)\n",
    "#             return mse(mme_seq,true_degrees)\n",
    "\n",
    "#         if (method == deg_estimator.MONTE_CARLO):\n",
    "#             mc_seq, ssd_error, accepted = monte_carlo_degree(sampled_graph,probability_retain)\n",
    "#             return mse(mc_seq,true_degrees)\n",
    "\n",
    "#         if (method == deg_estimator.CASCADE_DEGREES):\n",
    "#             csc_seq = degree_cascade(sampled_graph,real_graph.number_of_nodes() - sampled_graph.number_of_nodes(),probability_retain)\n",
    "#             return mse(csc_seq,full_degrees)\n",
    "\n",
    "#         if (method == deg_estimator.BAYES_MME):\n",
    "#             mme_seq = deg_MME(sampled_graph,probability_retain,True)\n",
    "#             ba"
   ]
  },
  {
   "cell_type": "code",
   "execution_count": 19,
   "metadata": {},
   "outputs": [],
   "source": [
    "## shortcut to the plot/fill_inbetween fns\n",
    "def plot_shaded_bars(xrange, means, sds, ax, label=None):\n",
    "    ax.plot(xrange,means,label=label)\n",
    "    ax.fill_between(xrange,means - sds, means+sds, alpha=0.3)\n",
    "    "
   ]
  },
  {
   "cell_type": "code",
   "execution_count": 20,
   "metadata": {},
   "outputs": [
    {
     "data": {
      "image/png": "[encoded data removed]",
      "text/plain": [
       "<Figure size 1200x800 with 1 Axes>"
      ]
     },
     "metadata": {},
     "output_type": "display_data"
    }
   ],
   "source": [
    "from matplotlib import rc\n",
    "\n",
    "## Comment below out if not using dark mode ;)\n",
    "plt.style.use(\"default\")\n",
    "fig, ax = plt.subplots(figsize = (12,8))\n",
    "plot_shaded_bars(p_range,mme_means,mme_sds,ax,label=\"MME\")\n",
    "plot_shaded_bars(p_range,csc_means,csc_sds,ax,label=\"Cascaded\")\n",
    "plot_shaded_bars(p_range,monte_carlo_means,monte_carlo_sds,ax,label=\"Monte Carlo Prior\")\n",
    "plot_shaded_bars(p_range,bayes_mc_means,bayes_mc_sds,ax,label=\"Bayes with MC prior\")\n",
    "plot_shaded_bars(p_range,bayes_csc_means,bayes_csc_sds,ax,label=\"Bayes with Cascaded degrees prior\")\n",
    "plot_shaded_bars(p_range,bayes_true_means, bayes_true_sds,ax, label=\"Bayes with true prior\")\n",
    "\n",
    "#ax.set_yscale('log')\n",
    "ax.legend(loc=\"upper right\",fontsize=20)\n",
    "plt.xlabel(\"p\",fontsize=20)\n",
    "plt.ylabel(\"MSE\",fontsize=20)\n",
    "plt.tight_layout()\n",
    "\n",
    "plt.show()"
   ]
  },
  {
   "cell_type": "markdown",
   "metadata": {},
   "source": [
    "# Triangle Count and Distribution Estimators\n",
    "\n",
    "This section will use the estimators from degree but for the number of triangles per edge and in total.\n",
    "\n",
    "## Basic functions\n",
    "\n",
    "First we define some utility functions for counting number of common neighbours between node pairs and triangles per edge, as well as wedge counts"
   ]
  },
  {
   "cell_type": "code",
   "execution_count": 21,
   "metadata": {},
   "outputs": [],
   "source": [
    "def common_neighbours(n1, n2, G):\n",
    "    n1neigh = set(G.neighbors(n1))\n",
    "    n2neigh = set(G.neighbors(n2))\n",
    "    return len(n1neigh.intersection(n2neigh)), G.has_edge(n1,n2)\n",
    "\n",
    "def triangles(n1, n2, G):\n",
    "    if not G.has_edge(n1,n2):\n",
    "        return 0\n",
    "    else:\n",
    "        return len(list(nx.common_neighbors(G,n1,n2)))\n",
    "\n",
    "def edge_triangle_count(G):\n",
    "    tc = []\n",
    "    for i in G.nodes():\n",
    "        for j in G.neighbors(i):\n",
    "            if i>j:\n",
    "                continue\n",
    "            tc.append(triangles(i,j,G))\n",
    "    return tc\n",
    "\n",
    "def edge_triangle_dict(G):\n",
    "    tc={}\n",
    "    for u,v in G.edges():\n",
    "        tc[(min(u,v),max(u,v))]=triangles(u,v,G)\n",
    "    return tc\n",
    "\n",
    "\n",
    "def local_wedge_count(G):\n",
    "    nodes = sorted(G.nodes())\n",
    "    ec = []\n",
    "    for i in range(len(nodes)):\n",
    "        for j in range(i):\n",
    "            cn = common_neighbours(nodes[i],nodes[j],G)\n",
    "            if cn[0]!=0:\n",
    "                ec.append(cn[0])\n",
    "    return ec\n",
    "\n",
    "def wedge_count(G):\n",
    "    return 0.5*sum([d*(d-1) for n,d in G.degree()])"
   ]
  },
  {
   "cell_type": "markdown",
   "metadata": {},
   "source": [
    "## MME estimators for triangles and clustering\n",
    "\n",
    "Some functions for MME estimators of clustering coefficient and triangle count."
   ]
  },
  {
   "cell_type": "code",
   "execution_count": 22,
   "metadata": {},
   "outputs": [],
   "source": [
    "def tri_MME(tri_array, p):\n",
    "    return [round(1.0/p**2*ct) for ct in tri_array]\n",
    "\n",
    "def scaleup_wedge(H,p):\n",
    "    return 1.0/p**2*wedge_count(H)\n",
    "\n",
    "def scaleup_local_wedge(H,p):\n",
    "    return 1.0/p**2*np.array(H)\n",
    "\n",
    "def scaleup_clustering_coeff(H,p):\n",
    "    wc = 1.0/p**2*wedge_count(H)\n",
    "    t_array = tri_MME(edge_triangle_count(H),p)\n",
    "    tc = sum(t_array)\n",
    "    return t_array/wc\n",
    "\n",
    "def tot_tri_estimate(H,p):\n",
    "    tri_array = edge_triangle_count(H)/p**3\n",
    "    return sum(tri_array)"
   ]
  },
  {
   "cell_type": "markdown",
   "metadata": {},
   "source": [
    "## Probability Mass Functions for triangle count of sampled network"
   ]
  },
  {
   "cell_type": "code",
   "execution_count": 24,
   "metadata": {},
   "outputs": [],
   "source": [
    "def triangle_likelihood(t,tc,p):\n",
    "    return comb(t,tc)*np.power((1.0-p*p),t)\n",
    "\n",
    "def triangle_likelihood_normalised(t,tc,p):\n",
    "    return comb(t,tc)*np.power(p,2.0*tc)*np.power(1.0-p*p,t-tc)"
   ]
  },
  {
   "cell_type": "code",
   "execution_count": null,
   "metadata": {},
   "outputs": [],
   "source": []
  },
  {
   "cell_type": "markdown",
   "metadata": {},
   "source": [
    "# Degree-degree correlations"
   ]
  },
  {
   "cell_type": "code",
   "execution_count": 18,
   "metadata": {},
   "outputs": [],
   "source": [
    "# Returns the sequence of connections of higher rank\n",
    "def k_plus(graph):\n",
    "    no_nodes = graph.number_of_nodes()\n",
    "    k_plus_arr = np.zeros(no_nodes,dtype=int)\n",
    "    for n in range(no_nodes):\n",
    "        k_plus_arr[n] = len(list(filter(lambda node: nx.degree(graph)[node] > nx.degree(graph)[n],nx.neighbors(graph,n))))\n",
    "    return k_plus_arr\n",
    "\n",
    "def k_minus(graph):\n",
    "    degrees = np.array([d for (_,d) in nx.degree(graph)])\n",
    "    return degrees - k_plus(graph)\n"
   ]
  }
 ],
 "metadata": {
  "interpreter": {
   "hash": "279c352ecfabf70c5fcd67ada6a14b501a5197061c707359690b4f39ee64ba7c"
  },
  "kernelspec": {
   "display_name": "Python 3 (ipykernel)",
   "language": "python",
   "name": "python3"
  },
  "language_info": {
   "codemirror_mode": {
    "name": "ipython",
    "version": 3
   },
   "file_extension": ".py",
   "mimetype": "text/x-python",
   "name": "python",
   "nbconvert_exporter": "python",
   "pygments_lexer": "ipython3",
   "version": "3.9.5"
  }
 },
 "nbformat": 4,
 "nbformat_minor": 2
}
