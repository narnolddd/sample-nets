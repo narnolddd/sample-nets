{
 "cells": [
  {
   "cell_type": "code",
   "execution_count": 3,
   "id": "surprising-union",
   "metadata": {},
   "outputs": [],
   "source": [
    "import networkx as nx\n",
    "import numpy as np\n",
    "import matplotlib.pyplot as plt\n",
    "import pandas as pd\n",
    "import random\n",
    "import math\n",
    "\n",
    "from collections import Counter\n",
    "a4_dims = (11.69,8.27)\n",
    "from scipy.stats import poisson\n",
    "import pymc3 as pm"
   ]
  },
  {
   "cell_type": "code",
   "execution_count": 4,
   "id": "prerequisite-plymouth",
   "metadata": {},
   "outputs": [],
   "source": [
    "def edge_sample(G, p, seed=None):\n",
    "    edges = G.edges()\n",
    "    sampled=[]\n",
    "    if seed is not None:\n",
    "        random.Seed(seed)\n",
    "    for e in edges:\n",
    "        r = random.random()\n",
    "        if r < p:\n",
    "            sampled.append(e)\n",
    "    H = nx.Graph()\n",
    "    H.add_edges_from(sampled)\n",
    "    return H\n",
    "\n",
    "def get_deg_cdf(G):\n",
    "    cts = Counter(sorted([d for n, d in G.degree()]))\n",
    "    degs = sorted(cts.keys())\n",
    "    vals = [cts[val] for val in degs]\n",
    "    cdf = np.cumsum(vals)\n",
    "    ccdf = cdf[-1] - cdf\n",
    "    return degs, cdf\n",
    "\n",
    "def count2freq(arr):\n",
    "    counter = Counter(arr)\n",
    "    tot = sum(counter.values())\n",
    "    for k in counter:\n",
    "        counter[k]/=tot\n",
    "    return counter\n",
    "\n",
    "def ecdf(a):\n",
    "    x, counts = np.unique(a, return_counts=True)\n",
    "    cusum = np.cumsum(counts)\n",
    "    return x, cusum"
   ]
  },
  {
   "cell_type": "code",
   "execution_count": 5,
   "id": "british-building",
   "metadata": {},
   "outputs": [],
   "source": [
    "def setup_axes(x,y,xscale=\"linear\",yscale=\"linear\"):\n",
    "    fig, ax = plt.subplots(figsize = a4_dims)\n",
    "    ax.set_xlabel(x,fontsize=20)\n",
    "    ax.tick_params(axis='x', labelsize=16)\n",
    "    ax.set_ylabel(y, fontsize=20)\n",
    "    ax.set_xscale(xscale)\n",
    "    ax.set_yscale(yscale)\n",
    "    return fig, ax"
   ]
  },
  {
   "cell_type": "code",
   "execution_count": null,
   "id": "banner-sunrise",
   "metadata": {},
   "outputs": [],
   "source": []
  }
 ],
 "metadata": {
  "kernelspec": {
   "display_name": "Python 3",
   "language": "python",
   "name": "python3"
  },
  "language_info": {
   "codemirror_mode": {
    "name": "ipython",
    "version": 3
   },
   "file_extension": ".py",
   "mimetype": "text/x-python",
   "name": "python",
   "nbconvert_exporter": "python",
   "pygments_lexer": "ipython3",
   "version": "3.9.0"
  }
 },
 "nbformat": 4,
 "nbformat_minor": 5
}
