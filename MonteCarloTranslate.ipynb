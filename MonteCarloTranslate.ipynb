{
 "cells": [
  {
   "cell_type": "code",
   "execution_count": 1,
   "metadata": {},
   "outputs": [],
   "source": [
    "import networkx as nx\n",
    "import numpy as np\n",
    "import matplotlib.pyplot as plt\n",
    "import pandas as pd\n",
    "import random\n",
    "import math\n",
    "\n",
    "from collections import Counter\n",
    "a4_dims = (11.69,8.27)\n",
    "from scipy.stats import poisson, zipf, rv_discrete\n",
    "from scipy.stats import ks_2samp\n",
    "import seaborn as sns\n",
    "from scipy.special import comb"
   ]
  },
  {
   "cell_type": "code",
   "execution_count": 2,
   "metadata": {},
   "outputs": [],
   "source": [
    "def binom(k,k_sampled,p):\n",
    "    return comb(k,k_sampled)* np.power(p,k_sampled)*np.power(1-p,k-k_sampled)"
   ]
  },
  {
   "cell_type": "code",
   "execution_count": 3,
   "metadata": {},
   "outputs": [],
   "source": [
    "def edge_sample(G,p,random_seed=None):\n",
    "    # optionally seed for reproducibility\n",
    "    random.seed(random_seed)\n",
    "    H = nx.Graph()\n",
    "    for (u,v) in G.edges:\n",
    "        if random.random()<p:\n",
    "            H.add_edge(u,v)\n",
    "    return H"
   ]
  },
  {
   "cell_type": "code",
   "execution_count": 4,
   "metadata": {},
   "outputs": [
    {
     "name": "stdout",
     "output_type": "stream",
     "text": [
      "[ 6  4 10  4]\n"
     ]
    }
   ],
   "source": [
    "## Basic estimator for degree sequence which does not redistribute any spare or missing links\n",
    "def deg_MME_basic(k_seq,sample_prob,as_int=False):\n",
    "    if sample_prob==0.0:\n",
    "        return np.zeros(shape=len(k_seq), dtype=float)\n",
    "    estimated = k_seq/sample_prob\n",
    "    if (as_int):\n",
    "        return np.array([*map(int,estimated)])\n",
    "    return estimated\n",
    "\n",
    "print(deg_MME_basic(np.array([3,2,5,2]),0.5,True))"
   ]
  },
  {
   "cell_type": "code",
   "execution_count": 6,
   "metadata": {},
   "outputs": [],
   "source": [
    "## Estimator which first obtains MME one then deals with rounding discrepency by redistributing links\n",
    "def deg_MME(sampled_graph, probability_keep, redistribute_links=True):\n",
    "\n",
    "    # Number of nodes/links in sampled graph\n",
    "    N_prime, M_prime = sampled_graph.number_of_nodes(), sampled_graph.number_of_edges()\n",
    "\n",
    "    ## Estimated number of links from sampled graph\n",
    "    M_estimated = int(M_prime/p)\n",
    "\n",
    "    ## Sampled and scaled-up degree distribution\n",
    "    k_prime = np.array([d for (_,d) in nx.degree(sampled_graph)])\n",
    "    k_est = deg_MME_basic(k_seq=k_prime,sample_prob=probability_keep,as_int=True)\n",
    "\n",
    "    if (redistribute_links==False):\n",
    "        return np.array(k_est)\n",
    "\n",
    "    ## \"Left over\" stubs from the rounding process\n",
    "    k_spare = 2*M_estimated - sum(k_est)\n",
    "\n",
    "    ## Distribute these random stubs if there are any\n",
    "    if k_spare>0:\n",
    "        sampled_nodes = random.sample(range(N_prime),k_spare)\n",
    "        for node in sampled_nodes:\n",
    "            k_est[node]+=1\n",
    "\n",
    "    ## If we have given nodes more connections than there are links, randomly remove some\n",
    "    if k_spare<0:\n",
    "        non_isolated_nodes = list(filter(lambda ind: k_est[ind]>0, range(N_prime)))\n",
    "        sampled_nodes = random.sample(non_isolated_nodes,abs(k_spare))\n",
    "        for node in sampled_nodes:\n",
    "            k_est[node]-=1\n",
    "    \n",
    "    return np.array(k_est) "
   ]
  },
  {
   "cell_type": "code",
   "execution_count": 19,
   "metadata": {},
   "outputs": [],
   "source": [
    "def monte_carlo_degree(sampled_graph,probability_keep):\n",
    "\n",
    "    # Number of nodes/links in sampled graph\n",
    "    N_prime, M_prime = sampled_graph.number_of_nodes(), sampled_graph.number_of_edges()\n",
    "\n",
    "    observed_degree = np.array([d for (_,d) in nx.degree(sampled_graph)])\n",
    "    estimated_degree = deg_MME(sampled_graph=sampled_graph, probability_keep=probability_keep,redistribute_links=True)\n",
    "\n",
    "    ## Expected degree of sampled network according to binomial\n",
    "    sampled_sequence = estimated_degree * probability_keep *1.0\n",
    "    #print(sampled_sequence)\n",
    "\n",
    "    ## Sum of squared distances as base quality metric\n",
    "    ssd_current = sum((sampled_sequence - observed_degree)**2)\n",
    "    #print(observed_degree)\n",
    "    \n",
    "    # Commence Monte Carlo process\n",
    "    # NB stuck in global minima if 1/p is an integer.\n",
    "    cts_accept=0\n",
    "    for i in range(15000):\n",
    "        ## Randomly rewire an edge\n",
    "        [n1, n2] = random.sample(range(N_prime),2)\n",
    "        # if i==1:\n",
    "        #     print(n1,n2)\n",
    "\n",
    "        ## Ensure we don't leave any isolated nodes\n",
    "        while(estimated_degree[n1]<=1):\n",
    "            [n1,n2] = random.sample(range(N_prime),2)\n",
    "        estimated_degree[n1]-=1\n",
    "        estimated_degree[n2]+=1\n",
    "\n",
    "        sampled_sequence = estimated_degree * probability_keep\n",
    "        ssd_new = sum((sampled_sequence - observed_degree)**2)\n",
    "\n",
    "        ## Reject step if error is larger:\n",
    "        if (ssd_new > ssd_current):\n",
    "            estimated_degree[n1]+=1\n",
    "            estimated_degree[n2]-=1\n",
    "        else:\n",
    "            ssd_current = ssd_new\n",
    "            cts_accept+=1\n",
    "\n",
    "    return estimated_degree, ssd_current, cts_accept\n",
    "\n"
   ]
  },
  {
   "cell_type": "code",
   "execution_count": 41,
   "metadata": {},
   "outputs": [],
   "source": [
    "def bayes_approx(prior_as_sequence,sampled_graph,prob_retain):\n",
    "    observed = np.array([d for (_,d) in nx.degree(sampled_graph)])\n",
    "    N_approx = len(prior_as_sequence)\n",
    "\n",
    "    ## transform from degree sequence to degree distribution\n",
    "    deg_counts = Counter(prior_as_sequence)\n",
    "\n",
    "    ## max value to use for the degree\n",
    "    k_max = max(deg_counts.elements())\n",
    "\n",
    "    ## construct prior from approx sequence\n",
    "    prior = [deg_counts[k]/N_approx for k in range(k_max+1)]\n",
    "    posterior = np.zeros(N_approx)\n",
    "\n",
    "    for i in range(N_approx):\n",
    "        k_observed = observed[i]\n",
    "        k_range = range(k_observed,k_max+1)\n",
    "\n",
    "        ## lambda function so can be applied to numpy array\n",
    "        binom_ev = lambda k : binom(k,k_observed,prob_retain)\n",
    "\n",
    "        denom = np.dot(binom_ev(k_range),prior[k_observed:k_max+1])\n",
    "        numer = np.dot(binom_ev(k_range)*k_range,prior[k_observed:k_max+1])\n",
    "        if (denom>0):\n",
    "            posterior[i]=numer/denom\n",
    "    return posterior\n",
    "    "
   ]
  },
  {
   "cell_type": "code",
   "execution_count": 39,
   "metadata": {},
   "outputs": [],
   "source": [
    "def mse(seq1, seq2):\n",
    "    return sum((seq1-seq2)**2)/len(seq1)"
   ]
  },
  {
   "cell_type": "code",
   "execution_count": 48,
   "metadata": {},
   "outputs": [],
   "source": [
    "N,M=1000,5000\n",
    "G = nx.gnm_random_graph(N,M)\n",
    "\n",
    "p_range = np.linspace(0.05,1.0,20)\n",
    "\n",
    "mme = np.zeros(len(p_range))\n",
    "monte_carlo = np.zeros(len(p_range))\n",
    "bayes_mc = np.zeros(len(p_range))\n",
    "bayes_true = np.zeros(len(p_range))\n",
    "\n",
    "for ind, p in enumerate(p_range):\n",
    "    H = edge_sample(G,p)\n",
    "\n",
    "    ## True degree sequence of nodes in G that are in H\n",
    "    true_degrees = np.array([nx.degree(G)[n] for n in H.nodes])\n",
    "\n",
    "    ## MME and associated error\n",
    "    mme_seq = deg_MME(H,p,True)\n",
    "    mme[ind] = mse(mme_seq,true_degrees)\n",
    "    \n",
    "    ## Monte carlo improvement\n",
    "    deg, ssd_error, accepted = monte_carlo_degree(H,p)\n",
    "    monte_carlo[ind] = mse(deg,true_degrees)\n",
    "    \n",
    "    ## Bayes using monte carlo\n",
    "    posterior_mc = bayes_approx(deg,H,p)\n",
    "    bayes_mc[ind] = mse(posterior_mc,true_degrees)\n",
    "    \n",
    "    ## Bayes using true prior\n",
    "    posterior_true = bayes_approx(true_degrees,H,p)\n",
    "    bayes_true[ind] = mse(posterior_true,true_degrees)\n",
    "\n",
    "    "
   ]
  },
  {
   "cell_type": "code",
   "execution_count": 49,
   "metadata": {},
   "outputs": [
    {
     "data": {
      "image/png": "[encoded data removed]",
      "text/plain": [
       "<Figure size 864x576 with 1 Axes>"
      ]
     },
     "metadata": {},
     "output_type": "display_data"
    }
   ],
   "source": [
    "fig, ax = plt.subplots(figsize=(12,8))\n",
    "\n",
    "plt.style.use(\"dark_background\")\n",
    "ax.plot(p_range,mme,label=\"MME\")\n",
    "ax.plot(p_range,monte_carlo,label=\"Monte-Carlo\")\n",
    "ax.plot(p_range,bayes_mc,label=\"Bayes with MC prior\")\n",
    "ax.plot(p_range,bayes_true,label=\"Bayes with true prior\")\n",
    "\n",
    "ax.legend(loc=\"upper right\")\n",
    "plt.tight_layout()\n",
    "plt.style.use(\"dark_background\")\n",
    "plt.show()"
   ]
  },
  {
   "cell_type": "code",
   "execution_count": 45,
   "metadata": {},
   "outputs": [
    {
     "name": "stdout",
     "output_type": "stream",
     "text": [
      "['Solarize_Light2', '_classic_test_patch', 'bmh', 'classic', 'dark_background', 'fast', 'fivethirtyeight', 'ggplot', 'grayscale', 'seaborn', 'seaborn-bright', 'seaborn-colorblind', 'seaborn-dark', 'seaborn-dark-palette', 'seaborn-darkgrid', 'seaborn-deep', 'seaborn-muted', 'seaborn-notebook', 'seaborn-paper', 'seaborn-pastel', 'seaborn-poster', 'seaborn-talk', 'seaborn-ticks', 'seaborn-white', 'seaborn-whitegrid', 'tableau-colorblind10']\n"
     ]
    }
   ],
   "source": [
    "print(plt.style.available)"
   ]
  }
 ],
 "metadata": {
  "interpreter": {
   "hash": "279c352ecfabf70c5fcd67ada6a14b501a5197061c707359690b4f39ee64ba7c"
  },
  "kernelspec": {
   "display_name": "Python 3.9.9 64-bit ('3.9.9')",
   "language": "python",
   "name": "python3"
  },
  "language_info": {
   "codemirror_mode": {
    "name": "ipython",
    "version": 3
   },
   "file_extension": ".py",
   "mimetype": "text/x-python",
   "name": "python",
   "nbconvert_exporter": "python",
   "pygments_lexer": "ipython3",
   "version": "3.9.9"
  },
  "orig_nbformat": 4
 },
 "nbformat": 4,
 "nbformat_minor": 2
}
