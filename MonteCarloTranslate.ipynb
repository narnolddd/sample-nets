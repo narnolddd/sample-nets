{
 "cells": [
  {
   "cell_type": "code",
   "execution_count": 1,
   "metadata": {},
   "outputs": [],
   "source": [
    "import networkx as nx\n",
    "import numpy as np\n",
    "import matplotlib.pyplot as plt\n",
    "import pandas as pd\n",
    "import random\n",
    "import math\n",
    "\n",
    "from collections import Counter\n",
    "a4_dims = (11.69,8.27)\n",
    "from scipy.stats import poisson, zipf, rv_discrete\n",
    "from scipy.stats import ks_2samp\n",
    "import seaborn as sns\n",
    "from scipy.special import comb"
   ]
  },
  {
   "cell_type": "code",
   "execution_count": 2,
   "metadata": {},
   "outputs": [],
   "source": [
    "def binom(k,k_sampled,p):\n",
    "    return comb(k,k_sampled)* np.power(p,k_sampled)*np.power(1-p,k-k_sampled)"
   ]
  },
  {
   "cell_type": "code",
   "execution_count": 3,
   "metadata": {},
   "outputs": [],
   "source": [
    "def edge_sample(G,p,random_seed=None):\n",
    "    # optionally seed for reproducibility\n",
    "    random.seed(random_seed)\n",
    "    H = nx.Graph()\n",
    "    for (u,v) in G.edges:\n",
    "        if random.random()<p:\n",
    "            H.add_edge(u,v)\n",
    "    return H"
   ]
  },
  {
   "cell_type": "code",
   "execution_count": 4,
   "metadata": {},
   "outputs": [
    {
     "name": "stdout",
     "output_type": "stream",
     "text": [
      "[ 6  4 10  4]\n"
     ]
    }
   ],
   "source": [
    "## Basic estimator for degree sequence which does not redistribute any spare or missing links\n",
    "def deg_MME_basic(k_seq,sample_prob,as_int=False):\n",
    "    if sample_prob==0.0:\n",
    "        return np.zeros(shape=len(k_seq), dtype=float)\n",
    "    estimated = k_seq/sample_prob\n",
    "    if (as_int):\n",
    "        return np.array([*map(int,estimated)])\n",
    "    return estimated\n",
    "\n",
    "print(deg_MME_basic(np.array([3,2,5,2]),0.5,True))"
   ]
  },
  {
   "cell_type": "code",
   "execution_count": 6,
   "metadata": {},
   "outputs": [],
   "source": [
    "## Estimator which first obtains MME one then deals with rounding discrepency by redistributing links\n",
    "def deg_MME(sampled_graph, probability_keep, redistribute_links=True):\n",
    "\n",
    "    # Number of nodes/links in sampled graph\n",
    "    N_prime, M_prime = sampled_graph.number_of_nodes(), sampled_graph.number_of_edges()\n",
    "\n",
    "    ## Estimated number of links from sampled graph\n",
    "    M_estimated = int(M_prime/p)\n",
    "\n",
    "    ## Sampled and scaled-up degree distribution\n",
    "    k_prime = np.array([d for (_,d) in nx.degree(sampled_graph)])\n",
    "    k_est = deg_MME_basic(k_seq=k_prime,sample_prob=probability_keep,as_int=True)\n",
    "\n",
    "    if (redistribute_links==False):\n",
    "        return np.array(k_est)\n",
    "\n",
    "    ## \"Left over\" stubs from the rounding process\n",
    "    k_spare = 2*M_estimated - sum(k_est)\n",
    "\n",
    "    ## Distribute these random stubs if there are any\n",
    "    if k_spare>0:\n",
    "        sampled_nodes = random.sample(range(N_prime),k_spare)\n",
    "        for node in sampled_nodes:\n",
    "            k_est[node]+=1\n",
    "\n",
    "    ## If we have given nodes more connections than there are links, randomly remove some\n",
    "    if k_spare<0:\n",
    "        non_isolated_nodes = list(filter(lambda ind: k_est[ind]>0, range(N_prime)))\n",
    "        sampled_nodes = random.sample(non_isolated_nodes,abs(k_spare))\n",
    "        for node in sampled_nodes:\n",
    "            k_est[node]-=1\n",
    "    \n",
    "    return np.array(k_est) "
   ]
  },
  {
   "cell_type": "code",
   "execution_count": 19,
   "metadata": {},
   "outputs": [],
   "source": [
    "def monte_carlo_degree(sampled_graph,probability_keep):\n",
    "\n",
    "    # Number of nodes/links in sampled graph\n",
    "    N_prime, M_prime = sampled_graph.number_of_nodes(), sampled_graph.number_of_edges()\n",
    "\n",
    "    observed_degree = np.array([d for (_,d) in nx.degree(sampled_graph)])\n",
    "    estimated_degree = deg_MME(sampled_graph=sampled_graph, probability_keep=probability_keep,redistribute_links=True)\n",
    "\n",
    "    ## Expected degree of sampled network according to binomial\n",
    "    sampled_sequence = estimated_degree * probability_keep *1.0\n",
    "    #print(sampled_sequence)\n",
    "\n",
    "    ## Sum of squared distances as base quality metric\n",
    "    ssd_current = sum((sampled_sequence - observed_degree)**2)\n",
    "    #print(observed_degree)\n",
    "    \n",
    "    # Commence Monte Carlo process\n",
    "    cts_accept=0\n",
    "    for i in range(15000):\n",
    "        ## Randomly rewire an edge\n",
    "        [n1, n2] = random.sample(range(N_prime),2)\n",
    "        # if i==1:\n",
    "        #     print(n1,n2)\n",
    "\n",
    "        ## Ensure we don't leave any isolated nodes\n",
    "        while(estimated_degree[n1]<=1):\n",
    "            [n1,n2] = random.sample(range(N_prime),2)\n",
    "        estimated_degree[n1]-=1\n",
    "        estimated_degree[n2]+=1\n",
    "\n",
    "        sampled_sequence = estimated_degree * probability_keep\n",
    "        ssd_new = sum((sampled_sequence - observed_degree)**2)\n",
    "\n",
    "        ## Reject step if error is larger:\n",
    "        if (ssd_new > ssd_current):\n",
    "            estimated_degree[n1]+=1\n",
    "            estimated_degree[n2]-=1\n",
    "        else:\n",
    "            ssd_current = ssd_new\n",
    "            cts_accept+=1\n",
    "\n",
    "    return estimated_degree, ssd_current, cts_accept\n",
    "\n"
   ]
  },
  {
   "cell_type": "code",
   "execution_count": null,
   "metadata": {},
   "outputs": [],
   "source": [
    "def bayes_approx(approx_sequence,observed,prob_retain):\n",
    "    N_approx = len(approx_sequence)\n",
    "\n",
    "    ## transform from degree sequence to degree distribution\n",
    "    deg_counts = Counter(approx_sequence)\n",
    "\n",
    "    ## max value to use for the degree\n",
    "    k_max = max(deg_counts.keys)\n",
    "\n",
    "    ## construct prior from approx sequence\n",
    "    prior = [deg_counts[k]/N_approx for k in range(k_max+1)]\n",
    "    posterior = np.zeros(N_approx)\n",
    "\n",
    "    for i in range(no_nodes):\n",
    "        k_observed = observed[i]\n",
    "        k_range = range(k_observed,k_max+1)\n",
    "\n",
    "        ## lambda function so can be applied to numpy array\n",
    "        binom_ev = lambda k : binom(k,k_observed,prob_retain)\n",
    "\n",
    "        denom = np.dot(binom_ev(k_range),prior[k_observed:k_max])\n",
    "        numer = np.dot(binom_ev(k_range),prior[k_observed:k_max])\n",
    "    "
   ]
  },
  {
   "cell_type": "code",
   "execution_count": 24,
   "metadata": {},
   "outputs": [
    {
     "name": "stdout",
     "output_type": "stream",
     "text": [
      "0.521943003820738 26.235412474849095 631\n",
      "0.43630180748627145 30.01011122345804 606\n",
      "0.5642903764225362 27.29748743718593 566\n",
      "0.6848185609546276 22.864 620\n",
      "0.2459706495284646 43.65033407572383 362\n",
      "0.8663824914800778 19.574 590\n",
      "0.8994917925043322 19.19 584\n",
      "0.8484950794813758 20.83 580\n",
      "0.6834326970404706 22.896 585\n",
      "0.9863826270236359 20.272 315\n",
      "0.7558715973624709 21.105105105105107 584\n",
      "0.6945178139031419 23.538 629\n",
      "0.9350640514074872 20.382 586\n",
      "0.663398347303056 24.299899699097292 535\n",
      "0.008232888451799925 17272.603174603173 1023\n",
      "0.936373182229168 20.498 600\n",
      "0.3216267846122026 37.78630705394191 583\n",
      "0.9203265167582974 19.326 554\n",
      "0.5214034449487971 26.857715430861724 637\n",
      "0.7860667966142867 21.9 610\n"
     ]
    }
   ],
   "source": [
    "N,M=1000,5000\n",
    "G = nx.gnm_random_graph(N,M)\n",
    "p_range = [random.random() for _ in range(20)]\n",
    "for p in p_range:\n",
    "    H = edge_sample(G,p)\n",
    "    true_degrees = np.array([d for (n,d) in nx.degree(G) if n in H.nodes])\n",
    "    deg, ssd_error, accepted = monte_carlo_degree(H,p)\n",
    "    true_error = sum((true_degrees - deg)**2)/len(deg)\n",
    "    print(p,true_error,accepted)\n",
    "\n",
    "    "
   ]
  }
 ],
 "metadata": {
  "interpreter": {
   "hash": "279c352ecfabf70c5fcd67ada6a14b501a5197061c707359690b4f39ee64ba7c"
  },
  "kernelspec": {
   "display_name": "Python 3.9.9 64-bit ('3.9.9')",
   "language": "python",
   "name": "python3"
  },
  "language_info": {
   "codemirror_mode": {
    "name": "ipython",
    "version": 3
   },
   "file_extension": ".py",
   "mimetype": "text/x-python",
   "name": "python",
   "nbconvert_exporter": "python",
   "pygments_lexer": "ipython3",
   "version": "3.9.9"
  },
  "orig_nbformat": 4
 },
 "nbformat": 4,
 "nbformat_minor": 2
}
